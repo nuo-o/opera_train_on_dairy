{
 "cells": [
  {
   "cell_type": "code",
   "execution_count": 1,
   "metadata": {},
   "outputs": [],
   "source": [
    "import os, sys, ujson, json\n",
    "module_path = os.path.abspath(os.path.join('..'))\n",
    "if module_path not in sys.path:\n",
    "    sys.path.append(module_path)\n",
    "from Feature.common import *"
   ]
  },
  {
   "cell_type": "markdown",
   "metadata": {},
   "source": [
    "# features to analyze:\n",
    "1. click VS 上次click距现在多久\n",
    "2. click VS 新闻时间： hub_timestamp/enter_timestamp\n",
    "3. click VS 是否有pushed_... 的feature(是否是clicked过的用户)\n",
    "4. click VS 距离 first_occurrence_timestamp多久\n",
    "5. click vs pushed_ctr\n",
    "6. click vs response_timestamp\n",
    "7. click vs 客户端收到消息的时间：news_publish_time_diff_hour_desc\n",
    "8. click vs nl_topic64 user和topic 中重合的个数"
   ]
  },
  {
   "cell_type": "code",
   "execution_count": 2,
   "metadata": {},
   "outputs": [],
   "source": [
    "configs = yaml.load('../Config/test.yaml')\n",
    "with open(configs) as f:\n",
    "    configs = yaml.load(f)\n",
    "    paths = get_dairy_path(configs, \"20181023\", \"20181023\")"
   ]
  },
  {
   "cell_type": "code",
   "execution_count": 3,
   "metadata": {},
   "outputs": [
    {
     "data": {
      "text/plain": [
       "'../Data/dairy_data/part-00004-53f9a764-18bf-4e7b-882d-31192491421a.csv'"
      ]
     },
     "execution_count": 3,
     "metadata": {},
     "output_type": "execute_result"
    }
   ],
   "source": [
    "paths[0]"
   ]
  },
  {
   "cell_type": "code",
   "execution_count": 6,
   "metadata": {},
   "outputs": [],
   "source": [
    "def extract_features_from_nested_jason( nested_jason, keys, savedDict):\n",
    "    has_extracted = []\n",
    "    searched_layer = nested_jason.keys()\n",
    "    item2search = keys.copy()\n",
    "    \n",
    "    while item2search and isinstance(searched_layer, dict):\n",
    "        for item in item2search:\n",
    "            if item in searched_layer:\n",
    "                savedDict[item].append(searched_layer[item])\n",
    "                item2search.pop(item)\n",
    "    \n",
    "    for item in item2search:\n",
    "        savedDict[item].append([None])\n",
    "            \n"
   ]
  },
  {
   "cell_type": "markdown",
   "metadata": {},
   "source": [
    "# parse features"
   ]
  },
  {
   "cell_type": "markdown",
   "metadata": {},
   "source": [
    "## 有关时间的feature"
   ]
  },
  {
   "cell_type": "markdown",
   "metadata": {},
   "source": [
    "### if_click VS (nl_topic64, user_nl_topic64)中重合个数"
   ]
  }
 ],
 "metadata": {
  "kernelspec": {
   "display_name": "Python 2",
   "language": "python",
   "name": "python2"
  },
  "language_info": {
   "codemirror_mode": {
    "name": "ipython",
    "version": 2
   },
   "file_extension": ".py",
   "mimetype": "text/x-python",
   "name": "python",
   "nbconvert_exporter": "python",
   "pygments_lexer": "ipython2",
   "version": "2.7.15"
  },
  "toc": {
   "base_numbering": 1,
   "nav_menu": {},
   "number_sections": true,
   "sideBar": true,
   "skip_h1_title": false,
   "title_cell": "Table of Contents",
   "title_sidebar": "Contents",
   "toc_cell": false,
   "toc_position": {},
   "toc_section_display": true,
   "toc_window_display": true
  }
 },
 "nbformat": 4,
 "nbformat_minor": 2
}
