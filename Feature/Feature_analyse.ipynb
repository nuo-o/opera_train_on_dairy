{
 "cells": [
  {
   "cell_type": "code",
   "execution_count": 1,
   "metadata": {},
   "outputs": [],
   "source": [
    "import os, sys, ujson, json, pandas as pd, numpy as np\n",
    "from sklearn.feature_selection import VarianceThreshold\n",
    "module_path = os.path.abspath(os.path.join('..'))\n",
    "if module_path not in sys.path:\n",
    "    sys.path.append(module_path)\n",
    "from Feature.common import *"
   ]
  },
  {
   "cell_type": "markdown",
   "metadata": {},
   "source": [
    "# 筛选 feature\n",
    "\n",
    "## 检查缺失值情况"
   ]
  },
  {
   "cell_type": "code",
   "execution_count": 17,
   "metadata": {},
   "outputs": [],
   "source": [
    "raw_df = cPickle.load(open('raw_feature.dat', 'rb'))"
   ]
  },
  {
   "cell_type": "code",
   "execution_count": 22,
   "metadata": {
    "scrolled": true
   },
   "outputs": [
    {
     "name": "stdout",
     "output_type": "stream",
     "text": [
      "99.65 %\t push_category\n",
      "99.65 %\t push_domain\n",
      "99.65 %\t push_keywords\n",
      "99.85 %\t push_subcategory\n",
      "99.77 %\t push_supervised_keywords\n",
      "99.65 %\t push_title_keywords\n",
      "99.77 %\t push_topic\n",
      "99.77 %\t push_topic2048\n",
      "99.67 %\t push_topic256\n",
      "99.65 %\t push_topic64\n"
     ]
    }
   ],
   "source": [
    "# 用 20181016 的数据(有问题的数据)\n",
    "保留输出不运行！！\n",
    "for col in raw_df.columns:\n",
    "    missing = len(raw_df) - np.count_nonzero( raw_df[col].isnull().values)\n",
    "    mis_perc = 100 - float(missing) / len(raw_df) * 100\n",
    "    \n",
    "    if mis_perc > 50:\n",
    "        print (\"{miss} %\\t {col}\".format( col=col,miss=round(mis_perc,2)))"
   ]
  },
  {
   "cell_type": "code",
   "execution_count": 53,
   "metadata": {},
   "outputs": [
    {
     "name": "stdout",
     "output_type": "stream",
     "text": [
      "missing ratio:\n",
      "\n",
      "32.04 %\t category_v2_cross\n",
      "32.04 %\t category_v2_score\n",
      "6.36 %\t disgusting_scores\n",
      "6.36 %\t image_nsfw_scores\n",
      "32.62 %\t key_entities\n",
      "5.12 %\t key_entities_v2\n",
      "8.23 %\t key_entities_v2_hash\n",
      "42.2 %\t keywords_tag\n",
      "32.04 %\t keywords_v2\n",
      "6.36 %\t max_disgusting_scores\n",
      "1.09 %\t nl_category\n",
      "0.37 %\t nl_domain\n",
      "8.29 %\t nl_subcategory\n",
      "29.42 %\t nl_supervised_keywords\n",
      "0.33 %\t nl_title_keywords\n",
      "29.61 %\t nl_topic\n",
      "29.45 %\t nl_topic2048\n",
      "0.1 %\t opera_id\n",
      "6.15 %\t pictures\n",
      "4.1 %\t publication_time\n",
      "54.64 %\t push_category\n",
      "54.94 %\t push_domain\n",
      "54.98 %\t push_keywords\n",
      "63.53 %\t push_subcategory\n",
      "68.33 %\t push_supervised_keywords\n",
      "54.69 %\t push_title_keywords\n",
      "68.79 %\t push_topic\n",
      "68.74 %\t push_topic2048\n",
      "54.93 %\t push_topic256\n",
      "54.97 %\t push_topic64\n",
      "32.04 %\t supervised_keywords\n",
      "32.96 %\t supervised_keywords_v2\n",
      "32.96 %\t supervised_keywords_v2_origin\n",
      "0.08 %\t title_keywords\n",
      "32.04 %\t topic\n",
      "32.04 %\t topic2048\n",
      "32.04 %\t topic_v2\n"
     ]
    }
   ],
   "source": [
    "# 用20180901的数据\n",
    "print('missing ratio:\\n')\n",
    "for col in raw_df.columns:\n",
    "    missing = np.count_nonzero( raw_df[col].isnull().values)\n",
    "    mis_perc = float(missing) / len(raw_df) * 100\n",
    "    \n",
    "    if mis_perc :\n",
    "        print (\"{miss} %\\t {col}\".format(col=col,miss=round(mis_perc,2)))"
   ]
  },
  {
   "cell_type": "markdown",
   "metadata": {},
   "source": [
    ">后一个cell 计算出的missing ratio 是基于 20181016日算的，前一个cell算的是20180901. 能明显看出，后者 push_ 相关feature缺省更为严重，这是因为系统bug"
   ]
  },
  {
   "cell_type": "markdown",
   "metadata": {},
   "source": [
    ">剔除除了push以外的相关缺省严重的 feature。设 threshold = 50%。缺省一半以上的feature, 除了 push_相关 feature 都扔。"
   ]
  },
  {
   "cell_type": "markdown",
   "metadata": {},
   "source": [
    "## discard unqiue columns\n",
    "\n",
    "> 筛选 unqiue value 太多的，直接扔。筛选方差不大的，直接扔。最后 impute"
   ]
  },
  {
   "cell_type": "code",
   "execution_count": 2,
   "metadata": {},
   "outputs": [],
   "source": [
    "raw_df = cPickle.load(open('raw_feature.dat', 'rb'))"
   ]
  },
  {
   "cell_type": "code",
   "execution_count": 3,
   "metadata": {
    "scrolled": true
   },
   "outputs": [
    {
     "name": "stdout",
     "output_type": "stream",
     "text": [
      "news_device_id: \t\t30.74%\n",
      "opera_id: \t\t30.68%\n",
      "response_timestamp: \t\t71.23%\n",
      "summary: \t\t66.67%\n"
     ]
    }
   ],
   "source": [
    "# drop missing ratio 大的feature以后的数据：\n",
    "unique_cols = []\n",
    "\n",
    "for col in raw_df.columns:\n",
    "    if isinstance( raw_df[col][0], dict) or isinstance(raw_df[col][0], list):\n",
    "        continue\n",
    "    \n",
    "    values = raw_df[col]\n",
    "    unique_values = [i for i in values if i != None and i != '']\n",
    "    \n",
    "    if unique_values:\n",
    "        unique_perct = float(len(set(unique_values)))/len(unique_values)*100\n",
    "    \n",
    "        if unique_perct > 20:\n",
    "            print (\"{col}: \\t\\t{miss}%\".format(col=col,miss=round(unique_perct,2)))"
   ]
  },
  {
   "cell_type": "markdown",
   "metadata": {},
   "source": [
    "暂且保留：response_timestamp，想做 normalizing, scaling。 其他三个feature，丢～"
   ]
  },
  {
   "cell_type": "markdown",
   "metadata": {},
   "source": [
    "## discard var ->0\n",
    "> 筛选方差， 方差趋近于零的，丢～"
   ]
  },
  {
   "cell_type": "code",
   "execution_count": 2,
   "metadata": {},
   "outputs": [],
   "source": [
    "raw_df = cPickle.load(open('raw_feature.dat', 'rb'))"
   ]
  },
  {
   "cell_type": "code",
   "execution_count": 12,
   "metadata": {
    "scrolled": true
   },
   "outputs": [
    {
     "name": "stdout",
     "output_type": "stream",
     "text": [
      "18757774.08\t, content_length\n",
      "0.02\t, evergreen_confidence\n",
      "0.24\t, label\n",
      "35129605.92\t, news_publish_time_diff_hour_desc\n",
      "1.94\t, no_of_pictures\n",
      "0.08\t, no_of_videos\n",
      "4.55262942139e+14\t, response_timestamp\n",
      "199151.2\t, screen_height\n",
      "65920.91\t, screen_width\n",
      "2.17\t, soure_num\n",
      "0.91\t, spam_word_count\n",
      "2018903791.94\t, timestamp\n",
      "1186492338.1\t, ttl\n",
      "471739.5\t, word_count\n"
     ]
    }
   ],
   "source": [
    "# 找到所有 numerical cols\n",
    "numerics = ['int16', 'int32', 'int64', 'float16', 'float32', 'float64']\n",
    "\n",
    "newdf = raw_df.select_dtypes(include=numerics)\n",
    "\n",
    "for c in newdf.columns:\n",
    "    var = np.var( newdf[c].values )\n",
    "    \n",
    "    print (\"{var}\\t, {col}\".format(var = round(var, 2), col = c))"
   ]
  },
  {
   "cell_type": "markdown",
   "metadata": {},
   "source": [
    "丢方差太小的： evergreen_confidence, no_of_videos"
   ]
  },
  {
   "cell_type": "markdown",
   "metadata": {},
   "source": [
    "## "
   ]
  },
  {
   "cell_type": "markdown",
   "metadata": {},
   "source": [
    "# 研究每个feature的分布\n",
    ">筛除 std = 0 的feature 以后，还剩 129个 feature"
   ]
  },
  {
   "cell_type": "code",
   "execution_count": 15,
   "metadata": {},
   "outputs": [],
   "source": [
    "raw_feature = cPickle.load(open('raw_feature.dat', 'rb'))\n",
    "raw_feature_df = pd.DataFrame(raw_feature)"
   ]
  },
  {
   "cell_type": "code",
   "execution_count": 19,
   "metadata": {},
   "outputs": [],
   "source": [
    "raw_feature_df = raw_feature_df.drop(['low_taste_keywords', 'quality', 'sanitized_html_length', 'score'], axis = 1)"
   ]
  },
  {
   "cell_type": "code",
   "execution_count": 20,
   "metadata": {},
   "outputs": [
    {
     "data": {
      "text/html": [
       "<div>\n",
       "<style scoped>\n",
       "    .dataframe tbody tr th:only-of-type {\n",
       "        vertical-align: middle;\n",
       "    }\n",
       "\n",
       "    .dataframe tbody tr th {\n",
       "        vertical-align: top;\n",
       "    }\n",
       "\n",
       "    .dataframe thead th {\n",
       "        text-align: right;\n",
       "    }\n",
       "</style>\n",
       "<table border=\"1\" class=\"dataframe\">\n",
       "  <thead>\n",
       "    <tr style=\"text-align: right;\">\n",
       "      <th></th>\n",
       "      <th>content_length</th>\n",
       "      <th>evergreen_confidence</th>\n",
       "      <th>label</th>\n",
       "      <th>last_timestamp</th>\n",
       "      <th>new_type</th>\n",
       "      <th>news_publish_time_diff_hour_desc</th>\n",
       "      <th>no_of_pictures</th>\n",
       "      <th>no_of_videos</th>\n",
       "      <th>response_timestamp</th>\n",
       "      <th>screen_height</th>\n",
       "      <th>screen_width</th>\n",
       "      <th>soure_num</th>\n",
       "      <th>spam_word_count</th>\n",
       "      <th>timestamp</th>\n",
       "      <th>ttl</th>\n",
       "      <th>word_count</th>\n",
       "    </tr>\n",
       "  </thead>\n",
       "  <tbody>\n",
       "    <tr>\n",
       "      <th>count</th>\n",
       "      <td>32772.000000</td>\n",
       "      <td>32772.000000</td>\n",
       "      <td>32772.000000</td>\n",
       "      <td>3.277200e+04</td>\n",
       "      <td>15485.000000</td>\n",
       "      <td>32772.000000</td>\n",
       "      <td>32772.000000</td>\n",
       "      <td>32772.000000</td>\n",
       "      <td>3.277200e+04</td>\n",
       "      <td>32772.000000</td>\n",
       "      <td>32772.000000</td>\n",
       "      <td>32772.000000</td>\n",
       "      <td>32772.000000</td>\n",
       "      <td>3.277200e+04</td>\n",
       "      <td>3.277200e+04</td>\n",
       "      <td>32772.000000</td>\n",
       "    </tr>\n",
       "    <tr>\n",
       "      <th>mean</th>\n",
       "      <td>958.282284</td>\n",
       "      <td>0.071739</td>\n",
       "      <td>0.379470</td>\n",
       "      <td>1.539656e+09</td>\n",
       "      <td>1.062254</td>\n",
       "      <td>-301.250946</td>\n",
       "      <td>1.227908</td>\n",
       "      <td>0.083608</td>\n",
       "      <td>1.538593e+09</td>\n",
       "      <td>1211.517545</td>\n",
       "      <td>706.816673</td>\n",
       "      <td>1.467808</td>\n",
       "      <td>0.225803</td>\n",
       "      <td>1.539676e+09</td>\n",
       "      <td>1.555234e+09</td>\n",
       "      <td>327.127426</td>\n",
       "    </tr>\n",
       "    <tr>\n",
       "      <th>std</th>\n",
       "      <td>822.979503</td>\n",
       "      <td>0.132962</td>\n",
       "      <td>0.485263</td>\n",
       "      <td>2.048305e+05</td>\n",
       "      <td>0.241624</td>\n",
       "      <td>11334.065384</td>\n",
       "      <td>1.091308</td>\n",
       "      <td>0.303113</td>\n",
       "      <td>4.080254e+07</td>\n",
       "      <td>430.499270</td>\n",
       "      <td>250.331768</td>\n",
       "      <td>1.668263</td>\n",
       "      <td>0.669047</td>\n",
       "      <td>2.252041e+04</td>\n",
       "      <td>1.777342e+04</td>\n",
       "      <td>284.594212</td>\n",
       "    </tr>\n",
       "    <tr>\n",
       "      <th>min</th>\n",
       "      <td>103.000000</td>\n",
       "      <td>0.000000</td>\n",
       "      <td>0.000000</td>\n",
       "      <td>1.532504e+09</td>\n",
       "      <td>1.000000</td>\n",
       "      <td>-427101.000000</td>\n",
       "      <td>0.000000</td>\n",
       "      <td>0.000000</td>\n",
       "      <td>2.147483e+06</td>\n",
       "      <td>320.000000</td>\n",
       "      <td>240.000000</td>\n",
       "      <td>1.000000</td>\n",
       "      <td>0.000000</td>\n",
       "      <td>1.539518e+09</td>\n",
       "      <td>1.555152e+09</td>\n",
       "      <td>45.000000</td>\n",
       "    </tr>\n",
       "    <tr>\n",
       "      <th>25%</th>\n",
       "      <td>441.000000</td>\n",
       "      <td>0.000000</td>\n",
       "      <td>0.000000</td>\n",
       "      <td>1.539667e+09</td>\n",
       "      <td>1.000000</td>\n",
       "      <td>5.000000</td>\n",
       "      <td>1.000000</td>\n",
       "      <td>0.000000</td>\n",
       "      <td>1.539699e+09</td>\n",
       "      <td>854.000000</td>\n",
       "      <td>480.000000</td>\n",
       "      <td>1.000000</td>\n",
       "      <td>0.000000</td>\n",
       "      <td>1.539670e+09</td>\n",
       "      <td>1.555226e+09</td>\n",
       "      <td>140.000000</td>\n",
       "    </tr>\n",
       "    <tr>\n",
       "      <th>50%</th>\n",
       "      <td>698.000000</td>\n",
       "      <td>0.000000</td>\n",
       "      <td>0.000000</td>\n",
       "      <td>1.539677e+09</td>\n",
       "      <td>1.000000</td>\n",
       "      <td>8.000000</td>\n",
       "      <td>1.000000</td>\n",
       "      <td>0.000000</td>\n",
       "      <td>1.539709e+09</td>\n",
       "      <td>1204.000000</td>\n",
       "      <td>720.000000</td>\n",
       "      <td>1.000000</td>\n",
       "      <td>0.000000</td>\n",
       "      <td>1.539678e+09</td>\n",
       "      <td>1.555232e+09</td>\n",
       "      <td>237.000000</td>\n",
       "    </tr>\n",
       "    <tr>\n",
       "      <th>75%</th>\n",
       "      <td>1347.000000</td>\n",
       "      <td>0.077211</td>\n",
       "      <td>1.000000</td>\n",
       "      <td>1.539688e+09</td>\n",
       "      <td>1.000000</td>\n",
       "      <td>10.000000</td>\n",
       "      <td>1.000000</td>\n",
       "      <td>0.000000</td>\n",
       "      <td>1.539718e+09</td>\n",
       "      <td>1280.000000</td>\n",
       "      <td>720.000000</td>\n",
       "      <td>1.000000</td>\n",
       "      <td>0.000000</td>\n",
       "      <td>1.539689e+09</td>\n",
       "      <td>1.555244e+09</td>\n",
       "      <td>419.000000</td>\n",
       "    </tr>\n",
       "    <tr>\n",
       "      <th>max</th>\n",
       "      <td>8089.000000</td>\n",
       "      <td>0.808598</td>\n",
       "      <td>1.000000</td>\n",
       "      <td>1.539722e+09</td>\n",
       "      <td>2.000000</td>\n",
       "      <td>2213.000000</td>\n",
       "      <td>125.000000</td>\n",
       "      <td>4.000000</td>\n",
       "      <td>1.547661e+09</td>\n",
       "      <td>2960.000000</td>\n",
       "      <td>2560.000000</td>\n",
       "      <td>132.000000</td>\n",
       "      <td>14.000000</td>\n",
       "      <td>1.539722e+09</td>\n",
       "      <td>1.555284e+09</td>\n",
       "      <td>2951.000000</td>\n",
       "    </tr>\n",
       "  </tbody>\n",
       "</table>\n",
       "</div>"
      ],
      "text/plain": [
       "       content_length  evergreen_confidence         label  last_timestamp  \\\n",
       "count    32772.000000          32772.000000  32772.000000    3.277200e+04   \n",
       "mean       958.282284              0.071739      0.379470    1.539656e+09   \n",
       "std        822.979503              0.132962      0.485263    2.048305e+05   \n",
       "min        103.000000              0.000000      0.000000    1.532504e+09   \n",
       "25%        441.000000              0.000000      0.000000    1.539667e+09   \n",
       "50%        698.000000              0.000000      0.000000    1.539677e+09   \n",
       "75%       1347.000000              0.077211      1.000000    1.539688e+09   \n",
       "max       8089.000000              0.808598      1.000000    1.539722e+09   \n",
       "\n",
       "           new_type  news_publish_time_diff_hour_desc  no_of_pictures  \\\n",
       "count  15485.000000                      32772.000000    32772.000000   \n",
       "mean       1.062254                       -301.250946        1.227908   \n",
       "std        0.241624                      11334.065384        1.091308   \n",
       "min        1.000000                    -427101.000000        0.000000   \n",
       "25%        1.000000                          5.000000        1.000000   \n",
       "50%        1.000000                          8.000000        1.000000   \n",
       "75%        1.000000                         10.000000        1.000000   \n",
       "max        2.000000                       2213.000000      125.000000   \n",
       "\n",
       "       no_of_videos  response_timestamp  screen_height  screen_width  \\\n",
       "count  32772.000000        3.277200e+04   32772.000000  32772.000000   \n",
       "mean       0.083608        1.538593e+09    1211.517545    706.816673   \n",
       "std        0.303113        4.080254e+07     430.499270    250.331768   \n",
       "min        0.000000        2.147483e+06     320.000000    240.000000   \n",
       "25%        0.000000        1.539699e+09     854.000000    480.000000   \n",
       "50%        0.000000        1.539709e+09    1204.000000    720.000000   \n",
       "75%        0.000000        1.539718e+09    1280.000000    720.000000   \n",
       "max        4.000000        1.547661e+09    2960.000000   2560.000000   \n",
       "\n",
       "          soure_num  spam_word_count     timestamp           ttl    word_count  \n",
       "count  32772.000000     32772.000000  3.277200e+04  3.277200e+04  32772.000000  \n",
       "mean       1.467808         0.225803  1.539676e+09  1.555234e+09    327.127426  \n",
       "std        1.668263         0.669047  2.252041e+04  1.777342e+04    284.594212  \n",
       "min        1.000000         0.000000  1.539518e+09  1.555152e+09     45.000000  \n",
       "25%        1.000000         0.000000  1.539670e+09  1.555226e+09    140.000000  \n",
       "50%        1.000000         0.000000  1.539678e+09  1.555232e+09    237.000000  \n",
       "75%        1.000000         0.000000  1.539689e+09  1.555244e+09    419.000000  \n",
       "max      132.000000        14.000000  1.539722e+09  1.555284e+09   2951.000000  "
      ]
     },
     "execution_count": 20,
     "metadata": {},
     "output_type": "execute_result"
    }
   ],
   "source": [
    "raw_feature_df.describe()"
   ]
  },
  {
   "cell_type": "code",
   "execution_count": 23,
   "metadata": {},
   "outputs": [
    {
     "data": {
      "text/plain": [
       "129"
      ]
     },
     "execution_count": 23,
     "metadata": {},
     "output_type": "execute_result"
    }
   ],
   "source": [
    "len(raw_feature_df.keys())"
   ]
  },
  {
   "cell_type": "code",
   "execution_count": null,
   "metadata": {},
   "outputs": [],
   "source": []
  }
 ],
 "metadata": {
  "kernelspec": {
   "display_name": "Python 2",
   "language": "python",
   "name": "python2"
  },
  "language_info": {
   "codemirror_mode": {
    "name": "ipython",
    "version": 2
   },
   "file_extension": ".py",
   "mimetype": "text/x-python",
   "name": "python",
   "nbconvert_exporter": "python",
   "pygments_lexer": "ipython2",
   "version": "2.7.15"
  },
  "toc": {
   "base_numbering": 1,
   "nav_menu": {},
   "number_sections": true,
   "sideBar": true,
   "skip_h1_title": false,
   "title_cell": "Table of Contents",
   "title_sidebar": "Contents",
   "toc_cell": false,
   "toc_position": {
    "height": "calc(100% - 180px)",
    "left": "10px",
    "top": "150px",
    "width": "216px"
   },
   "toc_section_display": true,
   "toc_window_display": true
  }
 },
 "nbformat": 4,
 "nbformat_minor": 2
}
