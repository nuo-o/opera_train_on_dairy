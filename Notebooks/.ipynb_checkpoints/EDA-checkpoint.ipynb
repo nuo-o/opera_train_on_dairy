{
 "cells": [
  {
   "cell_type": "code",
   "execution_count": 6,
   "metadata": {},
   "outputs": [],
   "source": [
    "import argparse\n",
    "import logging, yaml,pandas as pd\n",
    "import ujson, random, pickle\n",
    "from pandas.io.json import json_normalize\n",
    "import matplotlib.pyplot as plt\n",
    "from collections import defaultdict"
   ]
  },
  {
   "cell_type": "markdown",
   "metadata": {},
   "source": [
    "# split into train and test"
   ]
  },
  {
   "cell_type": "code",
   "execution_count": 7,
   "metadata": {},
   "outputs": [
    {
     "name": "stdout",
     "output_type": "stream",
     "text": [
      "(14671, 6289)\n",
      "done\n",
      "CPU times: user 18.7 s, sys: 15 s, total: 33.7 s\n",
      "Wall time: 36 s\n"
     ]
    }
   ],
   "source": [
    "SEED = 448\n",
    "random.seed(SEED)\n",
    "\n",
    "def parse_arguments():\n",
    "    parser = argparse.ArgumentParser(description='Recommendation Algo Experiments')\n",
    "    parser.add_argument(\"-c\", \"--config\", type=argparse.FileType(mode='r'), help=\"Config file\")\n",
    "    return parser.parse_args()\n",
    "\n",
    "def get_news_profile_from_dairy(path):\n",
    "    record = []\n",
    "    with open(path, 'r') as f:\n",
    "        for line in f.readlines():\n",
    "            # 'news_profiles' starts at index 3\n",
    "            news_profiles = \" \".join(line.split()[3:])\n",
    "            news_profiles = ujson.loads(news_profiles)\n",
    "            record.append(news_profiles)\n",
    "    return record\n",
    "\n",
    "def train_test_split(dairy_list, ratio):\n",
    "    random.shuffle(dairy_list)\n",
    "    split_index = int(len(dairy_list)*ratio)\n",
    "    train_dairy = dairy_list[:split_index] \n",
    "    test_dairy = dairy_list[split_index: ]\n",
    "    print(len(train_dairy), len(test_dairy))\n",
    "    \n",
    "    return train_dairy, test_dairy\n",
    "\n",
    "def main():\n",
    "    dairy_records = get_news_profile_from_dairy(\"../Data/dairy_data/20181024/part-00090-8548596d-15ca-4d7e-9019-14354b9db90f.csv\")\n",
    "    train,test = train_test_split( dairy_records, 0.7 )\n",
    "    # dump train, test\n",
    "#     with open('../Data/train_dairy.txt', 'wb') as f:\n",
    "#         pickle.dump(train, f)\n",
    "    \n",
    "#     with open('../Data/test_dairy.txt', 'wb') as f:\n",
    "#         pickle.dump(test, f)\n",
    "    \n",
    "    print('done')\n",
    "    return train, test\n",
    "\n",
    "%time train_dairy, test_dairy = main()"
   ]
  },
  {
   "cell_type": "markdown",
   "metadata": {},
   "source": [
    "## check if train and test have similar feature/label distribution"
   ]
  },
  {
   "cell_type": "code",
   "execution_count": 3,
   "metadata": {
    "scrolled": true
   },
   "outputs": [
    {
     "data": {
      "text/plain": [
       "[u'd8020007_ke',\n",
       " u'20153d38_ke',\n",
       " u'6ace6590_ke',\n",
       " u'1cba04c_ke',\n",
       " u'79511b4b_ke',\n",
       " u'1504c34f_ke']"
      ]
     },
     "execution_count": 3,
     "metadata": {},
     "output_type": "execute_result"
    }
   ],
   "source": [
    "train_dairy[0]['news_profile'].keys()"
   ]
  },
  {
   "cell_type": "code",
   "execution_count": 4,
   "metadata": {},
   "outputs": [
    {
     "data": {
      "text/plain": [
       "[u'd8020007_ke',\n",
       " u'20153d38_ke',\n",
       " u'6ace6590_ke',\n",
       " u'1cba04c_ke',\n",
       " u'79511b4b_ke',\n",
       " u'1504c34f_ke']"
      ]
     },
     "execution_count": 4,
     "metadata": {},
     "output_type": "execute_result"
    }
   ],
   "source": [
    "type(train_dairy)\n",
    "type(train_dairy[0])\n",
    "train_dairy[0].keys()\n",
    "type(train_dairy[0]['news_profile'])\n",
    "train_dairy[0]['news_profile'].keys()"
   ]
  },
  {
   "cell_type": "code",
   "execution_count": 8,
   "metadata": {},
   "outputs": [
    {
     "name": "stdout",
     "output_type": "stream",
     "text": [
      "train:\n",
      "active user: 12053 / 26724, proportion = 45.0%\n",
      "test:\n",
      "active user: 5146 / 11435, proportion = 45.0%\n"
     ]
    }
   ],
   "source": [
    "def count_active_user(dairy, printInfo):\n",
    "    active_count = 0\n",
    "    inactive_count = 0\n",
    "    for user in dairy:\n",
    "        active_flag = False\n",
    "        for pushed_news in user['news_profile'].keys():\n",
    "            if user['news_profile'][pushed_news]['label'] == 1:\n",
    "                active_count += 1\n",
    "                active_flag = False\n",
    "                break\n",
    "        if not active_flag:\n",
    "                inactive_count +=1\n",
    "            \n",
    "    if printInfo:\n",
    "        print('active user: {} / {}, proportion = {}%'.format(active_count, active_count+inactive_count, round(active_count*100/(active_count+inactive_count), 2)))\n",
    "    return active_count, inactive_count\n",
    "\n",
    "print('train:')\n",
    "train_act, train_inact = count_active_user(train_dairy, True)\n",
    "print('test:')\n",
    "test_act, test_inact = count_active_user(test_dairy, True)"
   ]
  },
  {
   "cell_type": "markdown",
   "metadata": {},
   "source": [
    ">The train and test set has the same proportion of active users(clicked at least one pushed news).\n",
    "\n",
    ">The below mainly analyze data distribution on the train set."
   ]
  },
  {
   "cell_type": "markdown",
   "metadata": {},
   "source": [
    "## check the number of clicks in active users"
   ]
  },
  {
   "cell_type": "code",
   "execution_count": 9,
   "metadata": {},
   "outputs": [],
   "source": [
    "def count_num_pushed_news_pp(dairy, printInfo):\n",
    "    \"\"\"count number of pushed news per person\"\"\"\n",
    "    pushed_counts = []\n",
    "    for user in dairy:\n",
    "        active_flag = False\n",
    "        num = len( user['news_profile'].keys())\n",
    "        pushed_counts.append(num)\n",
    "    return pushed_counts\n",
    "\n",
    "def count_num_pushed_news_pn(dairy, printInfo):\n",
    "    \"\"\"count number of times pushed per news\"\"\"\n",
    "    pushed_news_counts = defaultdict(int)\n",
    "    for user in dairy:\n",
    "        active_flag = False\n",
    "        for news_id in user['news_profile'].keys():\n",
    "            pushed_news_counts[news_id] += 1\n",
    "    \n",
    "    pushed_times = [ times for news_id, times in pushed_news_counts.items() ]\n",
    "        \n",
    "    return pushed_times\n",
    "\n",
    "count_pp = count_num_pushed_news_pp(train_dairy, True)\n",
    "count_pn = count_num_pushed_news_pn(train_dairy, True)"
   ]
  },
  {
   "cell_type": "code",
   "execution_count": 10,
   "metadata": {},
   "outputs": [
    {
     "data": {
      "text/plain": [
       "14671"
      ]
     },
     "execution_count": 10,
     "metadata": {},
     "output_type": "execute_result"
    }
   ],
   "source": [
    "len(count_pp)"
   ]
  },
  {
   "cell_type": "code",
   "execution_count": 11,
   "metadata": {},
   "outputs": [
    {
     "data": {
      "image/png": "[encoded data removed]",
      "text/plain": [
       "<Figure size 864x432 with 1 Axes>"
      ]
     },
     "metadata": {
      "needs_background": "light"
     },
     "output_type": "display_data"
    }
   ],
   "source": [
    "plt.figure(figsize = (12, 6))\n",
    "plt.hist(count_pp, bins = 50, log = True)\n",
    "plt.xlabel('Number of pushed news a man received', fontsize = 12)\n",
    "plt.ylabel('log(Count of people)', fontsize = 12)\n",
    "plt.title('The distribution of number of push news received ')\n",
    "plt.show()"
   ]
  },
  {
   "cell_type": "code",
   "execution_count": 12,
   "metadata": {},
   "outputs": [
    {
     "name": "stdout",
     "output_type": "stream",
     "text": [
      "People that receives push news < 1: 0.07 %\n",
      "People that receives push news < 2: 23.9 %\n",
      "People that receives push news < 3: 39.27 %\n",
      "People that receives push news < 4: 48.52 %\n",
      "People that receives push news < 5: 57.21 %\n",
      "People that receives push news < 6: 67.28 %\n",
      "People that receives push news < 7: 79.7 %\n",
      "People that receives push news < 8: 89.69 %\n",
      "People that receives push news < 9: 96.63 %\n",
      "People that receives push news < 10: 99.11 %\n",
      "People that receives push news < 11: 99.93 %\n",
      "People that receives push news < 12: 99.99 %\n"
     ]
    }
   ],
   "source": [
    "for i in range(1, 13):\n",
    "    counts = [1 for p in count_pp if p < i]\n",
    "    counts = round( 100.0* sum(counts)/len(count_pp),2 )\n",
    "    print('People that receives push news < {}: {} %'.format(i, counts))"
   ]
  },
  {
   "cell_type": "markdown",
   "metadata": {},
   "source": [
    "> 6 条以上 可能是因为server延时上报。"
   ]
  },
  {
   "cell_type": "code",
   "execution_count": 13,
   "metadata": {},
   "outputs": [],
   "source": [
    "def collect_outliers(dairy, printInfo, cutoff):\n",
    "    \"\"\"collect users that receives too much pushed news a day\"\"\"\n",
    "    outliers = []\n",
    "    for user in dairy:\n",
    "        active_flag = False\n",
    "        num = len( user['news_profile'].keys())\n",
    "        if num >= cutoff:\n",
    "            outliers.append(user)\n",
    "    return outliers\n",
    "\n",
    "outliers = collect_outliers(train_dairy, True,  12)"
   ]
  },
  {
   "cell_type": "code",
   "execution_count": 14,
   "metadata": {},
   "outputs": [
    {
     "data": {
      "text/plain": [
       "1"
      ]
     },
     "execution_count": 14,
     "metadata": {},
     "output_type": "execute_result"
    }
   ],
   "source": [
    "len(outliers)"
   ]
  },
  {
   "cell_type": "code",
   "execution_count": 15,
   "metadata": {
    "scrolled": false
   },
   "outputs": [
    {
     "name": "stdout",
     "output_type": "stream",
     "text": [
      "[u'6feb1b41_ng', u'248dc4a6_ng', u'9f14de7f_ng', u'a97b967c_ng', u'7eae2c22_ng', u'c1965e58_ng', u'ba8966f9_ng', u'208ed979_ng', u'7274dcc3_ng', u'4ba00307_ng', u'1391c95a_ng', u'68234ec6_ng', u'436640d3_ng', u'2cc5625e_ng']\n"
     ]
    }
   ],
   "source": [
    "for o in outliers:\n",
    "    print o['news_profile'].keys()"
   ]
  },
  {
   "cell_type": "code",
   "execution_count": 16,
   "metadata": {
    "scrolled": false
   },
   "outputs": [
    {
     "name": "stdout",
     "output_type": "stream",
     "text": [
      "label:0\n",
      "set([u'166', u'113'])\n",
      "\n",
      "label:0\n",
      "set([u'123', u'40'])\n",
      "\n",
      "label:1\n",
      "set([u'91', u'123'])\n",
      "\n",
      "label:0\n",
      "set([u'91', u'130', u'113', u'40'])\n",
      "\n",
      "label:0\n",
      "set([u'44', u'180', u'113'])\n",
      "\n",
      "label:0\n",
      "set([u'206', u'33', u'131', u'186', u'6', u'102', u'166'])\n",
      "\n",
      "label:0\n",
      "set([u'39', u'250'])\n",
      "\n",
      "label:0\n",
      "set([u'91', u'28'])\n",
      "\n",
      "label:0\n",
      "set([u'180', u'40'])\n",
      "\n",
      "label:0\n",
      "set([u'44', u'220'])\n",
      "\n",
      "label:0\n",
      "set([u'206', u'40', u'130', u'113', u'91', u'220'])\n",
      "\n",
      "label:1\n",
      "set([u'206', u'40', u'130', u'168', u'113', u'91'])\n",
      "\n",
      "label:0\n",
      "set([u'91', u'113', u'206'])\n",
      "\n",
      "label:1\n",
      "set([u'131', u'186', u'6'])\n",
      "\n"
     ]
    }
   ],
   "source": [
    "user_profile = outliers[0]['user_profile'].get('nl_topic256')\n",
    "\n",
    "for news in outliers[0]['news_profile'].keys():\n",
    "    this_article = outliers[0]['news_profile'][news]\n",
    "    a = this_article.get('label')\n",
    "    print(\"label:{}\".format(a))\n",
    "    \n",
    "    news_keywords = this_article.get('news_feature').get('topic256')\n",
    "    if news_keywords:\n",
    "        intersection = set(news_keywords.keys()) & set( user_profile )\n",
    "        print(intersection)\n",
    "        print"
   ]
  },
  {
   "cell_type": "markdown",
   "metadata": {},
   "source": [
    ">仅凭这一个结果，click 看起来 不在乎权重，只在乎 user_profile 与 news_profile topic 重合个数？\n",
    "可以验证一下，click的events中 user_profile 里 topic重合数，相对于 non-click 里 topic的重合数"
   ]
  },
  {
   "cell_type": "code",
   "execution_count": 17,
   "metadata": {},
   "outputs": [
    {
     "data": {
      "image/png": "[encoded data removed]",
      "text/plain": [
       "<Figure size 864x432 with 1 Axes>"
      ]
     },
     "metadata": {
      "needs_background": "light"
     },
     "output_type": "display_data"
    }
   ],
   "source": [
    "plt.figure(figsize = (12, 6))\n",
    "plt.hist(count_pn, bins = 50, log = True)\n",
    "plt.xlabel('Number of times the news have been pushed', fontsize = 12)\n",
    "plt.ylabel('log(Count of news)', fontsize = 12)\n",
    "plt.title('The distribution of number of times be pushed per news')\n",
    "plt.show()"
   ]
  },
  {
   "cell_type": "code",
   "execution_count": 19,
   "metadata": {},
   "outputs": [
    {
     "name": "stdout",
     "output_type": "stream",
     "text": [
      "News that have been pushed < 1: 0.0%\n",
      "News that have been pushed < 2: 22.07%\n",
      "News that have been pushed < 5: 44.48%\n",
      "News that have been pushed < 10: 60.14%\n",
      "News that have been pushed < 15: 68.35%\n",
      "News that have been pushed < 20: 71.34%\n",
      "News that have been pushed < 50: 84.17%\n",
      "News that have been pushed < 70: 87.94%\n",
      "News that have been pushed < 80: 88.96%\n",
      "News that have been pushed < 100: 90.25%\n",
      "News that have been pushed < 150: 93.16%\n",
      "News that have been pushed < 200: 94.95%\n",
      "News that have been pushed < 300: 96.66%\n",
      "News that have been pushed < 500: 98.46%\n"
     ]
    }
   ],
   "source": [
    "# check the most popular article:\n",
    "for i in [1, 2, 5, 10, 15, 20, 50, 70, 80, 100, 150, 200, 300, 500]:\n",
    "    counts = [1 for p in count_pn if p < i]\n",
    "    counts = round( 100.0* sum(counts)/len(count_pn),2)\n",
    "    print('News that have been pushed < {}: {}%'.format(i, counts))"
   ]
  },
  {
   "cell_type": "markdown",
   "metadata": {},
   "source": [
    "It seems that the coverage is 100%. All the news in the candidates pool have been pushed at least once."
   ]
  },
  {
   "cell_type": "code",
   "execution_count": 20,
   "metadata": {},
   "outputs": [],
   "source": [
    "# check the proportion of be clicked out of be pushed \n",
    "\n",
    "def count_ctr_pn(dairy, printInfo):\n",
    "    \"\"\"count click through rate of each news\"\"\"\n",
    "    news_clicked_count = defaultdict(list)\n",
    "    for user in dairy:\n",
    "        active_flag = False\n",
    "        for news_id in user['news_profile'].keys():\n",
    "            click = user['news_profile'][news_id]['label']\n",
    "            news_clicked_count[news_id].extend( [click])\n",
    "    \n",
    "    CTR = []\n",
    "    for key in news_clicked_count.keys():\n",
    "        ctr = sum( news_clicked_count[key] )/len( news_clicked_count[key] )*100\n",
    "        CTR.append(ctr)\n",
    "             \n",
    "    return CTR\n",
    "\n",
    "train_ctr = count_ctr_pn( train_dairy, True)"
   ]
  },
  {
   "cell_type": "code",
   "execution_count": 21,
   "metadata": {},
   "outputs": [
    {
     "data": {
      "text/plain": [
       "1169"
      ]
     },
     "execution_count": 21,
     "metadata": {},
     "output_type": "execute_result"
    }
   ],
   "source": [
    "# check candidate pool size\n",
    "len(count_pn)"
   ]
  },
  {
   "cell_type": "markdown",
   "metadata": {},
   "source": [
    "There are 887 unique news in the push pool "
   ]
  },
  {
   "cell_type": "code",
   "execution_count": 22,
   "metadata": {
    "scrolled": true
   },
   "outputs": [
    {
     "name": "stdout",
     "output_type": "stream",
     "text": [
      "News that CTR = 0: 95.81 %\n"
     ]
    }
   ],
   "source": [
    "counts = [1 for p in train_ctr if p == 0]\n",
    "counts = round( 100.0* sum(counts)/len(train_ctr),2 )\n",
    "print('News that CTR = 0: {} %'.format(counts))"
   ]
  },
  {
   "cell_type": "markdown",
   "metadata": {},
   "source": [
    "Imbalance Class, 40% of active users. For each news, 4% be clicked. "
   ]
  },
  {
   "cell_type": "code",
   "execution_count": 25,
   "metadata": {
    "scrolled": false
   },
   "outputs": [
    {
     "data": {
      "image/png": "[encoded data removed]",
      "text/plain": [
       "<Figure size 864x432 with 1 Axes>"
      ]
     },
     "metadata": {
      "needs_background": "light"
     },
     "output_type": "display_data"
    }
   ],
   "source": [
    "# check number of news be clicked per person\n",
    "# def count_click_counts_pp(dairy, printInfo):\n",
    "#     click_count = []\n",
    "#     for user in dairy:\n",
    "#         active_count = 0\n",
    "#         for pushed_news in user['news_profile'].keys():\n",
    "#             if user['news_profile'][pushed_news]['label'] == 1:\n",
    "#                 active_count += 1\n",
    "#         click_count.extend([active_count])\n",
    "        \n",
    "#     return click_count\n",
    "\n",
    "def count_click_counts_pp(dairy, printInfo):\n",
    "    click_count = []\n",
    "    for user in dairy:\n",
    "        active_count = 0\n",
    "        active_flag = False\n",
    "        for pushed_news in user['news_profile'].keys():\n",
    "            if user['news_profile'][pushed_news]['label'] == 1:\n",
    "                active_count += 1\n",
    "                active_flag = True\n",
    "        if active_flag:      \n",
    "            click_count.extend([active_count])\n",
    "        \n",
    "    return click_count\n",
    "\n",
    "click_counts = count_click_counts_pp(train_dairy, True)\n",
    "\n",
    "plt.figure(figsize = (12, 6))\n",
    "plt.hist(click_counts, bins = 50, log = True)\n",
    "plt.xlabel('Number of news have been clicked per person', fontsize = 12)\n",
    "plt.ylabel('log(Count of person)', fontsize = 12)\n",
    "plt.title('The distribution of number of news be clicked per person')\n",
    "plt.show()"
   ]
  },
  {
   "cell_type": "code",
   "execution_count": 26,
   "metadata": {
    "scrolled": true
   },
   "outputs": [
    {
     "name": "stdout",
     "output_type": "stream",
     "text": [
      "Num of people that have been clicked <= 0: 0.0%\n",
      "Num of people that have been clicked <= 1: 72.85%\n",
      "Num of people that have been clicked <= 2: 89.82%\n",
      "Num of people that have been clicked <= 3: 95.75%\n",
      "Num of people that have been clicked <= 4: 98.03%\n",
      "Num of people that have been clicked <= 5: 99.09%\n",
      "Num of people that have been clicked <= 6: 99.6%\n",
      "Num of people that have been clicked <= 7: 99.84%\n",
      "Num of people that have been clicked <= 8: 100.0%\n"
     ]
    }
   ],
   "source": [
    "for i in range(9):\n",
    "    counts = [1 for p in click_counts if p <= i]\n",
    "    counts = round( 100.0* sum(counts)/len(click_counts),2)\n",
    "    print('Num of people that have been clicked <= {}: {}%'.format(i, counts))"
   ]
  },
  {
   "cell_type": "markdown",
   "metadata": {},
   "source": [
    ">有些人太闲了，推多少条看多少条？？是不是无论推什么，他都看。是不是应该结合推送时间看一下，他是不是每一条新闻都点啊？？如果很临近，他肯定就是太闲了\n",
    "\n",
    "那么太闲的人的特征？手机牌子？user_profile里面权重很低？（kurtosis?）\n",
    ">既然我们一天推三次，所以理论上>=4次的，应该算abnormal了。所幸，他们只占 2.55%。所以可以在以后的分析里，刨除这些 abnormal。所以我们是否可以直接扔了这部分user，反正他们不管推什么都看，而且每一条必看。"
   ]
  },
  {
   "cell_type": "code",
   "execution_count": 201,
   "metadata": {},
   "outputs": [],
   "source": [
    "# check the one that clicked too much times\n",
    "\n",
    "def collect_ctr_outliers(dairy, printInfo, cutoff):\n",
    "    outliers = []\n",
    "    outliers_count = []\n",
    "    for user in dairy:\n",
    "        active_count = 0\n",
    "        for pushed_news in user['news_profile'].keys():\n",
    "            if user['news_profile'][pushed_news]['label'] == 1:\n",
    "                active_count += 1\n",
    "        if active_count>=cutoff:\n",
    "            outliers.append(user)\n",
    "            outliers_count.append(str(active_count) + str(\"/\") + str(len(user['news_profile'].keys())))\n",
    "    return outliers, outliers_count\n",
    "\n",
    "ctr_outliers, outliers_count = collect_ctr_outliers(train_dairy, True, 4)"
   ]
  },
  {
   "cell_type": "code",
   "execution_count": 194,
   "metadata": {},
   "outputs": [
    {
     "data": {
      "text/plain": [
       "324"
      ]
     },
     "execution_count": 194,
     "metadata": {},
     "output_type": "execute_result"
    }
   ],
   "source": [
    "len(outliers_count)"
   ]
  },
  {
   "cell_type": "markdown",
   "metadata": {},
   "source": [
    "# transform user profile to json file"
   ]
  },
  {
   "cell_type": "code",
   "execution_count": 179,
   "metadata": {
    "collapsed": true
   },
   "outputs": [
    {
     "data": {
      "text/plain": [
       "'{\"news_profile\": {\"2f277425_ng\": {\"news_feature\": {\"content_length\": 3257, \"target_country\": \"ng\", \"topic256\": {\"150\": 0.027503736317157003, \"46\": 0.06872197240591, \"208\": 0.024962630122900002, \"1\": 0.09174140542745501, \"178\": 0.045029893517494, \"102\": 0.10403586924076001, \"100\": 0.102541103959083, \"237\": 0.15908071398735002, \"139\": 0.058295961469411, \"254\": 0.024402091279625}, \"word_count\": 564, \"ttl\": 1555691374, \"keywords\": {\"nollywood\": 1, \"ancop\": 3, \"ekejimb\": 0, \"eyengho\": 2, \"luth\": 4}, \"summary_length\": 0, \"title\": \"How Malaria drug overdose killed Nollywood producer\", \"cdn_pictures\": [{\"id\": \"9fb33fda7e51b4bd74efb228cec9bd56\", \"image_server\": \"http://img.transcoder.opera.com/assets/v2\"}], \"location\": \"ng,global\", \"title_keywords\": {\"produc\": 1, \"drug overdos\": 0}, \"hub_timestamp\": \"2018-10-21T16:29:33Z\", \"push_source\": \"\", \"timestamp\": 1540084705, \"negative_feedback_category\": null, \"mannual_keywords\": false, \"nlp_timestamp\": \"\", \"no_of_videos\": 0, \"expiration_timestamp\": 0, \"summary\": \"\", \"crawler\": \"cms\", \"domain\": \"vanguardngr.com\", \"sub_category\": \"\", \"sex\": 0, \"sanitized_html_length\": 0, \"key_entities\": {\"I-LOC Nollywood\": 5, \"I-PER Eyengho\": 4, \"I-LOC LUTH\": 5, \"I-ORG Lagos University Teaching Hospital\": 2, \"I-PER Chris Ekejimbe\": 2}, \"images\": null, \"exp_scores\": {\"20170830\": 0}, \"enter_timestamp\": \"2018-10-21T16:29:34Z\", \"category\": \"Others\", \"body_addons\": [], \"pictures\": [\"https://www.vanguardngr.com/wp-content/uploads/2018/10/Chris-Ekejimbe.png\"], \"enter_type\": \"cms\", \"sub_sub_category\": \"\", \"combined_score\": 0, \"supervised_keywords_v2\": {\"nollywood\": 3.197931051254272, \"luth\": 2.567909717559814, \"chri ekejimb\": 2.326874732971191}, \"score\": 0, \"keywords_tag\": {\"Nollywood\": 0.37311187, \"Ogun State\": 0.02233749, \"Davido\": 0.015993828, \"University of Lagos\": 0.016005455000000002, \"Ibadan\": 0.022446185}, \"thumbnail\": {\"id\": \"9fb33fda7e51b4bd74efb228cec9bd56\", \"image_server\": \"http://img.transcoder.opera.com/assets/v2\"}, \"hit_domain_blacklist\": false, \"evergreen_confidence\": 0, \"image_mscv_scores\": null, \"dup_flag\": true, \"language\": \"en\", \"country\": \"ng\", \"category_v2_cross\": \"Crime@News_Entertainment_lh\", \"no_of_pictures\": 1, \"keywords_v2\": {\"nollywood\": 2.670009928263603, \"luth\": 0.6676739515919611, \"typhoid fever\": 0.270484569325578, \"malaria\": 2.336408671252714, \"red blood cell\": 0.29508265350060503}, \"quality\": 0, \"key_entities_v2\": {\"Nollywood\": 7.9967, \"Chris Ekejimbe\": 6.96, \"ANCOP\": 3.91, \"Alex Eyengho\": 4.87, \"LUTH\": 5.93}, \"sensitive_keywords\": 0, \"index_type\": 0, \"head_addons\": [], \"supervised_keywords_v2_origin\": {\"Nollywood\": 3.197931051254272, \"Chris Ekejimbe\": 2.326874732971191, \"LUTH\": 2.567909717559814}, \"quality_entity_original_format\": null, \"list_title\": \"\", \"domain_category_level\": 2, \"negative_feedback_keyword\": null, \"topic2048\": {\"783\": 0.018307968974113003, \"716\": 0.049731425940990004, \"1891\": 0.025313340127468, \"1367\": 0.016360787674784, \"1519\": 0.030931066721677003, \"110\": 0.012869292870163002, \"1686\": 0.021463742479681, \"64\": 0.007811101153492, \"1905\": 0.007833482697606, \"503\": 0.008840644732117}, \"topic_evergreen\": {\"124\": 0.073216781020164, \"48\": 0.066363632678985}, \"low_taste_keywords\": 0, \"news_id\": \"\", \"category_v2_score\": {\"News_Sports\": 0.030501588261831, \"Crime\": 0.247188020494634, \"Religion\": 0.013365972015425002, \"Health\": 0.05035377143855001, \"Art&Design\": 0.15838175256636403, \"Fashion&Beauty\": 0.029433545238852003, \"Gaming\": 0.008871217612780001, \"Business\": 0.01062438602498, \"Food\": 0.01664482246239, \"Auto\": 0.007987547190607, \"Home&Garden\": 0.010992803230138001, \"Travel\": 0.020348100423439, \"Others_Plane_Crash\": 0.017128570880634002, \"News_Entertainment\": 0.205315580480945, \"Accident\": 0.030674477032263003, \"Others_Natural_Disaster\": 0.009931721437101, \"Science\": 0.015478536482088, \"Pet_Animals\": 0.007732587747418001, \"Others_Terrorism\": 0.017608771822037, \"News_Politics\": 0.047337611638797, \"Prose\": 0.013804468829536001, \"Education\": 0.00976239710844, \"Technology\": 0.020531749580740003}, \"gallery_type\": 0, \"topic_v2\": {\"391\": 0.082944981753826, \"512\": 0.10110032558441101}, \"last_timestamp\": 1540084705, \"source_location\": \"\", \"amp_url\": \"https://www.vanguardngr.com/2018/10/how-malaria-drug-overdose-killed-nollywood-producer/amp/\", \"topic\": {\"182\": 0.10739766061306, \"23\": 0.025526314973831003, \"330\": 0.012368421070277, \"77\": 0.040380116552114, \"99\": 0.016900584101676, \"109\": 0.011988304555416001, \"476\": 0.014444444328546002, \"280\": 0.016812864691019003, \"166\": 0.050643276423215006, \"161\": 0.041900586336851}, \"seed\": \"\", \"entry_id\": \"2f277425_ng\", \"partner\": 1, \"anti_spam_processed_time\": \"\", \"id\": \"9fb33fda7e51b4bd74efb228cec9bd56_ng\", \"soure_num\": 3, \"spam_word_count\": 0, \"top_domain\": \"vanguardngr.com\", \"imageserver\": \"http://img.transcoder.opera.com/assets/v2\", \"author\": \"Vanguard\", \"topic64\": {\"39\": 0.006803542841225, \"59\": 0.21928341686725603, \"17\": 0.004388083703815, \"22\": 0.270531415939331, \"43\": 0.058454107493162, \"53\": 0.008413848467171001, \"0\": 0.029428342357277003, \"7\": 0.030193237587809, \"9\": 0.052938811480998, \"8\": 0.256682783365249}, \"publication_time\": \"1540084705000\", \"subscribe_tags\": [\"news_dlsub_00045\"], \"first_occurrence_timestamp\": \"2018-10-21T01:21:11Z\", \"evergreen\": 0, \"supervised_keywords\": {\"nollywood\": 0.52079077545616, \"typhoid fever\": 0.659245942475117, \"malaria drug\": 0.5447111032872101, \"drug overdos\": 0.49942752426135706, \"yesterdai\": 0.476321594581086}, \"spelling_errors\": 0, \"gallery_pictures_num\": false, \"url\": \"https://www.vanguardngr.com/2018/10/how-malaria-drug-overdose-killed-nollywood-producer/\", \"original_url\": \"https://www.vanguardngr.com/2018/10/how-malaria-drug-overdose-killed-nollywood-producer/\", \"title_spam_word_count\": 0, \"sub_sub_sub_category\": \"\", \"key_entities_v2_hash\": {\"hash_11458742445061917063\": 5.93, \"hash_6294909028956826786\": 7.9967, \"hash_7725256355739687779\": 3.91, \"hash_513660878236314267\": 4.87, \"hash_3951452791844883193\": 6.96}}, \"context\": {\"recall_source\": \"F\", \"push_ctr\": \"0.009\", \"recall_score\": \"0\", \"response_timestamp\": 1540152283, \"news_publish_time_diff_hour_desc\": 18, \"channel\": \"push\", \"rank_score\": \"0\"}, \"label\": 1}, \"5eb9beb6_ng\": {\"news_feature\": {\"content_length\": 1131, \"target_country\": \"ng\", \"topic256\": {\"113\": 0.030563797801733003, \"22\": 0.024740355089306002, \"49\": 0.19959197938442202, \"31\": 0.030600888654589, \"135\": 0.049109790474176004, \"91\": 0.024443618953227, \"223\": 0.026965875178575002, \"118\": 0.23349405825138, \"221\": 0.07711423933506001, \"105\": 0.02418397553265}, \"word_count\": 491, \"new_type\": 1, \"ttl\": 1555656359, \"keywords\": {\"alaafin oyo\": 0, \"yorubaland\": 5, \"tinubu\": 2, \"osinbajo\": 3, \"yor\\\\u00f9b\\\\u00e1\": 1}, \"summary_length\": 0, \"title\": \"Osinbajo, Jonathan, Tinubu, others eulogise Alaafin at 80\", \"max_disgusting_scores\": {\"20170703\": 0.020736442177818}, \"cdn_pictures\": null, \"location\": \"ss,gh,ug,zm,tz,za,ng,ke,mw,zw\", \"title_keywords\": {\"jonathan\": 3, \"osinbajo\": 2, \"tinubu\": 1, \"alaafin\": 0}, \"hub_timestamp\": \"2018-10-21T06:45:52Z\", \"push_source\": \"breaking-news\", \"timestamp\": 1540104016, \"negative_feedback_category\": null, \"mannual_keywords\": false, \"nlp_timestamp\": \"2018-10-21T06:45:59Z\", \"no_of_videos\": 0, \"expiration_timestamp\": 0, \"summary\": \"\", \"disgusting_scores\": {\"20170703\": [0.020736442177818]}, \"crawler\": \"NG-CRAWLER\", \"domain\": \"premiumtimesng.com\", \"sub_category\": \"\", \"sex\": 0, \"sanitized_html_length\": 0, \"key_entities\": {\"I-PER Jonathan\": 3, \"I-PER Tinubu\": 3, \"I-PER Alaafin\": 11, \"I-LOC Oyo\": 7, \"I-PER Osinbajo\": 3, \"I-PER NAN\": 4}, \"images\": null, \"exp_scores\": {\"20170830\": 0.007983252118715001}, \"enter_timestamp\": \"2018-10-21T06:45:59Z\", \"category\": \"Others\", \"body_addons\": [], \"pictures\": [\"https://i0.wp.com/media.premiumtimesng.com/wp-content/files/2018/02/Alaafin-and-the-two-Oloris-who-welcomed-a-set-of-twins.jpg?fit=598%2C395&ssl=1\"], \"enter_type\": \"crawler_news\", \"sub_sub_category\": \"\", \"combined_score\": 0, \"supervised_keywords_v2\": {\"oyo\": 2.145079374313354, \"monarch\": 2.22671365737915, \"osinbajo\": 2.90573501586914, \"alaafin\": 3.166943788528442}, \"score\": 0, \"keywords_tag\": {\"Oyo\": 0.043706305, \"Kayode Fayemi\": 0.061339878, \"Bola Tinubu\": 0.11310484, \"Abiola Ajimobi\": 0.0668534, \"Ibrahim Babangida\": 0.06602212}, \"thumbnail\": {\"id\": \"\", \"image_server\": \"\"}, \"hit_domain_blacklist\": false, \"evergreen_confidence\": 0.322672028288639, \"image_mscv_scores\": [], \"dup_flag\": true, \"language\": \"en\", \"country\": \"ng\", \"category_v2_cross\": \"News_Politics@Religion_mh\", \"image_nsfw_scores\": [0.0033380126114930003], \"no_of_pictures\": 1, \"keywords_v2\": {\"jonathan\": 0.8604774337106791, \"alaafin\": 6.359917526925205, \"oyo state\": 0.6791303809728201, \"tinubu\": 1.748769304466475, \"osinbajo\": 1.557844396276626}, \"relevant_entity\": [{\"stem_format\": \"alaafin oyo\", \"origin_format\": \"\", \"weight\": 0}], \"quality\": 0, \"key_entities_v2\": {\"Goodluck Jonathan\": 6.9990000000000006, \"Bola Tinubu\": 5.998, \"Yemi Osinbajo\": 7.5, \"Yor\": 7.91, \"Alaafin\": 12.9956}, \"sensitive_keywords\": 0, \"index_type\": 0, \"head_addons\": [], \"supervised_keywords_v2_origin\": {\"Oyo\": 2.145079374313354, \"the monarch\": 2.22671365737915, \"Osinbajo\": 2.90573501586914, \"Alaafin\": 3.166943788528442}, \"quality_entity_original_format\": null, \"list_title\": \"\", \"domain_category_level\": 2, \"negative_feedback_keyword\": null, \"topic2048\": {\"1287\": 0.009781640022993001, \"773\": 0.043716579675674, \"1997\": 0.011073974892497, \"1455\": 0.017691623419523, \"598\": 0.010762032121419001, \"1549\": 0.020053476095199002, \"536\": 0.011965241283178002, \"733\": 0.08718805760145101, \"918\": 0.011564171873033002, \"1000\": 0.009870766662061001}, \"topic_evergreen\": null, \"low_taste_keywords\": 0, \"news_id\": \"\", \"category_v2_score\": {\"News_Sports\": 0.0033085928309850004, \"Crime\": 0.022743326261632002, \"Religion\": 0.27518947889794004, \"Health\": 0.003311999117869, \"Art&Design\": 0.005959755695433001, \"Fashion&Beauty\": 0.001424439417659, \"Gaming\": 0.0010438139934750002, \"Business\": 0.004076817504137, \"Food\": 0.0014231320977650002, \"Auto\": 0.0012243025551300002, \"Home&Garden\": 0.0014460663936220002, \"Travel\": 0.004270017574745, \"Others_Plane_Crash\": 0.0019681891756010003, \"News_Entertainment\": 0.003944601460522001, \"Accident\": 0.002020660411217, \"Others_Natural_Disaster\": 0.0014539812170080001, \"Science\": 0.001401301892414, \"Pet_Animals\": 0.0027993631984120004, \"Others_Terrorism\": 0.007068280233564, \"News_Politics\": 0.6368496460727371, \"Prose\": 0.008598729505078001, \"Education\": 0.0032520882088280002, \"Technology\": 0.005221416284215}, \"gallery_type\": 0, \"topic_v2\": {\"19\": 0.154837757349014, \"476\": 0.297020643949508}, \"quality_entity\": [{\"stem_format\": \"alaafin oyo\", \"origin_format\": \"\", \"weight\": 0}], \"last_timestamp\": 1540065650, \"source_location\": \"\", \"amp_url\": \"\", \"topic\": {\"258\": 0.019767442718148003, \"540\": 0.03531976789236, \"889\": 0.018081394955515, \"543\": 0.0554651170969, \"470\": 0.126075580716133, \"326\": 0.014244185760617001, \"395\": 0.016366278752684, \"422\": 0.017645349726080003, \"665\": 0.015261627733707001, \"291\": 0.07805232703685701}, \"seed\": \"https://www.premiumtimesng.com/\", \"entry_id\": \"5eb9beb6_ng\", \"anti_spam_processed_time\": \"2018-10-21T06:45:59Z\", \"id\": \"4aea9da73172eef8ad10cec0122fd149_ng\", \"soure_num\": 6, \"spam_word_count\": 0, \"top_domain\": \"premiumtimesng.com\", \"imageserver\": \"http://img.transcoder.opera.com/assets/v1\", \"author\": \"Agency Report\", \"topic64\": {\"12\": 0.121645368635654, \"17\": 0.041214060038328004, \"0\": 0.093051120638847, \"31\": 0.004233227111399, \"35\": 0.43103036284446705, \"61\": 0.210303515195846, \"3\": 0.006349840201437001, \"4\": 0.012859425507485001, \"7\": 0.014816294424235002, \"53\": 0.0062699681147930005}, \"publication_time\": \"1540104016000\", \"first_occurrence_timestamp\": \"2018-10-20T20:48:51Z\", \"evergreen\": 0, \"supervised_keywords\": {\"eulogis\": 0.38103217418759305, \"jonathan\": 0.37198165222904706, \"yemi osinbajo\": 0.500979413715418, \"contribut\": 0.33000961137629603, \"monarch\": 0.534200238766778}, \"spelling_errors\": 0, \"gallery_pictures_num\": false, \"url\": \"https://www.premiumtimesng.com/news/more-news/291584-osinbajo-jonathan-tinubu-others-eulogise-alaafin-at-80.html?utm_source=operamini&utm_medium=feednews&utm_campaign=operamini_feednews\", \"original_url\": \"https://www.premiumtimesng.com/news/more-news/291584-osinbajo-jonathan-tinubu-others-eulogise-alaafin-at-80.html?utm_source=operamini&utm_medium=feednews&utm_campaign=operamini_feednews\", \"title_spam_word_count\": 0, \"sub_sub_sub_category\": \"\", \"key_entities_v2_hash\": {\"hash_10114449608850526336\": 6.9990000000000006, \"hash_12788668675471444604\": 5.998, \"hash_18012442746204392795\": 7.5, \"hash_7246900566240456915\": 7.91, \"hash_1275165277269730081\": 12.9956}}, \"context\": {\"recall_source\": \"f\", \"push_ctr\": \"0.074\", \"recall_score\": \"0.745\", \"response_timestamp\": 1540125363, \"news_publish_time_diff_hour_desc\": 5, \"channel\": \"push\", \"rank_score\": \"0.221\"}, \"label\": 1}, \"a64da6e8_ng\": {\"news_feature\": {\"content_length\": 4287, \"target_country\": \"africa\", \"topic256\": {\"38\": 0.117709636688232, \"212\": 0.10919899493455801, \"154\": 0.057947434484958, \"22\": 0.037640798836946, \"6\": 0.04740300402045201, \"112\": 0.040581975132226, \"192\": 0.063297867774963, \"113\": 0.085732161998748, \"242\": 0.043335419148206, \"91\": 0.065081350505352}, \"word_count\": 745, \"ttl\": 1555656021, \"keywords\": {\"fr\": 5, \"buhari\": 2, \"atiku\": 1, \"soludo\": 3, \"mbaka\": 0}, \"summary_length\": 0, \"title\": \"2019 Elections: Rev. Fr. Mbaka gives his take on Buhari and Atiku\", \"cdn_pictures\": [{\"id\": \"0447a5734d7d21b2397123ea59ea7421\", \"image_server\": \"http://img.transcoder.opera.com/assets/v2\"}], \"location\": \"ss,gh,ug,zm,tz,za,ng,ke,mw,zw\", \"title_keywords\": {\"fr\": 3, \"buhari\": 2, \"rev\": 4, \"atiku\": 1, \"mbaka\": 0}, \"hub_timestamp\": \"2018-10-21T06:40:20Z\", \"push_source\": \"\", \"timestamp\": 1540103793, \"negative_feedback_category\": null, \"mannual_keywords\": false, \"nlp_timestamp\": \"\", \"no_of_videos\": 0, \"expiration_timestamp\": 0, \"summary\": \"\", \"crawler\": \"cms\", \"domain\": \"dailyadvent.com\", \"sub_category\": \"\", \"sex\": 0, \"sanitized_html_length\": 0, \"key_entities\": {\"I-PER Soludo\": 2, \"I-PER Buhari\": 8, \"I-PER Mbaka\": 6, \"I-LOC Nigeria\": 12, \"I-ORG PDP\": 2, \"I-PER Atiku\": 7}, \"images\": null, \"exp_scores\": {\"20170830\": 0}, \"enter_timestamp\": \"2018-10-21T06:40:21Z\", \"category\": \"Others\", \"body_addons\": [], \"pictures\": [\"http://n-infra-affive-80.ams.op-mobile.opera.com/wp-content/uploads/2018/10/mbaka-aso2.jpg\", \"http://dailypost.ng/wp-content/uploads/2017/02/Mbaka-1.jpg\", \"http://dailypost.ng/wp-content/uploads/2018/07/Atiku-Abubakar.jpg\", \"https://i.ytimg.com/vi/BDAVOfygO_M/hqdefault.jpg\", \"http://dailypost.ng/wp-content/uploads/2018/03/Putin.png\", \"http://thenationonlineng.net/wp-content/uploads/2018/09/2018_2large_President_Buhari_090.jpg\", \"https://www.thebreakingtimes.com/wp-content/uploads/2015/11/mbaka.jpg\", \"https://i1.wp.com/thediarymagazine.com/wp-content/uploads/2018/07/mbaka.jpg?fit=700%2C420&ssl=1\", \"https://storage.googleapis.com/thisday-846548948316-wp-data/wp-media/2018/08/f7be457c-atiku-abubakar.jpg\", \"http://silverbirdtv.com/wp-content/uploads/2016/02/Father-Mbaka.jpg\", \"http://scd.rfi.fr/sites/filesrfi/imagecache/rfi_16x9_1024_578/sites/images.rfi.fr/files/aef_image/2017-03-10t095431z_158103722_rc1c127fd360_rtrmadp_3_nigeria-buhari.jpg\", \"https://storage.googleapis.com/thisday-846548948316-wp-data/wp-media/2018/10/3ba652c9-atiku-abubakar.jpg\", \"https://naijagospel.files.wordpress.com/2016/01/father-mbaka-delivering-his-usual-sermon.jpg?w=545\"], \"enter_type\": \"cms\", \"sub_sub_category\": \"\", \"combined_score\": 0, \"supervised_keywords_v2\": {\"buhari\": 2.853194952011108, \"atiku\": 2.850102663040161, \"mbaka\": 2.975527763366699}, \"score\": 0, \"keywords_tag\": {\"Nigerian Pilot\": 0.024889354000000002, \"Ibrahim Babangida\": 0.03009519, \"Atiku Abubakar\": 0.02403722, \"Independent National Electoral Commission (INEC)\": 0.03430256, \"African Politics\": 0.026624974000000003}, \"thumbnail\": {\"id\": \"0447a5734d7d21b2397123ea59ea7421\", \"image_server\": \"http://img.transcoder.opera.com/assets/v2\"}, \"hit_domain_blacklist\": false, \"evergreen_confidence\": 0, \"image_mscv_scores\": null, \"dup_flag\": true, \"language\": \"en\", \"country\": \"ng\", \"category_v2_cross\": \"News_Politics@Religion_mh\", \"no_of_pictures\": 1, \"keywords_v2\": {\"mbaka\": 1.94676087401266, \"nigeria\": 0.5124844603262201, \"bureau de chang\": 0.33746915043456105, \"buhari\": 2.548193759914624, \"atiku\": 3.371531515030733}, \"quality\": 0, \"key_entities_v2\": {\"Ejike Mbaka\": 11.4975, \"Muhammadu Buhari\": 12.9951, \"OperaVIP\": 100}, \"sensitive_keywords\": 0, \"index_type\": 0, \"head_addons\": [], \"supervised_keywords_v2_origin\": {\"Buhari\": 2.853194952011108, \"Atiku\": 2.850102663040161, \"Mbaka\": 2.975527763366699}, \"quality_entity_original_format\": null, \"list_title\": \"\", \"domain_category_level\": 2, \"negative_feedback_keyword\": null, \"topic2048\": {\"1420\": 0.014073777012526002, \"17\": 0.012008821591734001, \"1624\": 0.012770649977028, \"1639\": 0.013372093439102001, \"664\": 0.021110666915774002, \"1887\": 0.012349639087915, \"489\": 0.021832399070262003, \"1906\": 0.020429030060768003, \"1910\": 0.026042502373456, \"287\": 0.011467522010207001}, \"topic_evergreen\": {\"487\": 0.27844119071960405, \"124\": 0.125558823347091}, \"low_taste_keywords\": 0, \"news_id\": \"\", \"category_v2_score\": {\"News_Sports\": 0.015607786418794001, \"Crime\": 0.031652147014674004, \"Religion\": 0.172423861954057, \"Health\": 0.007543282060846, \"Art&Design\": 0.009805870958506002, \"Fashion&Beauty\": 0.0033864622039310004, \"Gaming\": 0.002567295028637, \"Business\": 0.006716848114053001, \"Food\": 0.00399910775351, \"Auto\": 0.002662953966128, \"Home&Garden\": 0.0028465697511550004, \"Travel\": 0.008707558102794001, \"Others_Plane_Crash\": 0.007221418474307, \"News_Entertainment\": 0.008903203192043001, \"Accident\": 0.004324435097805, \"Others_Natural_Disaster\": 0.0034152822437090004, \"Science\": 0.0038324441163840005, \"Pet_Animals\": 0.007154461317073001, \"Others_Terrorism\": 0.018723439366345, \"News_Politics\": 0.640727381928019, \"Prose\": 0.020941740359556, \"Education\": 0.0056197022623, \"Technology\": 0.011216748315362}, \"gallery_type\": 0, \"topic_v2\": {\"216\": 0.050185184925794005, \"524\": 0.061560846865177, \"560\": 0.07452380657196, \"125\": 0.050476189702749, \"219\": 0.051640212535858}, \"last_timestamp\": 1540036800, \"source_location\": \"\", \"amp_url\": \"\", \"topic\": {\"412\": 0.028223350644111002, \"884\": 0.041446700692176, \"313\": 0.023223349824547, \"713\": 0.022842640057206, \"526\": 0.022918781265616, \"41\": 0.0348477140069, \"450\": 0.048071067780256, \"733\": 0.029289340600371003, \"4\": 0.039289340376853006, \"324\": 0.034898478537797005}, \"seed\": \"\", \"entry_id\": \"a64da6e8_ng\", \"anti_spam_processed_time\": \"\", \"id\": \"0447a5734d7d21b2397123ea59ea7421_ng\", \"soure_num\": 7, \"spam_word_count\": 0, \"top_domain\": \"dailyadvent.com\", \"imageserver\": \"http://img.transcoder.opera.com/assets/v2\", \"author\": \"Oluwajoba Ogunwale\", \"topic64\": {\"11\": 0.056324902921915006, \"38\": 0.04300932213664, \"0\": 0.122669778764247, \"43\": 0.007889481261372, \"34\": 0.04873502254486001, \"1\": 0.095406129956245, \"61\": 0.172569915652275, \"3\": 0.171970710158348, \"7\": 0.09041278809309, \"9\": 0.12310253083705901}, \"publication_time\": \"1540103793000\", \"subscribe_tags\": [\"news_dlsub_00021\"], \"first_occurrence_timestamp\": \"2018-10-20T18:37:10Z\", \"evergreen\": 0, \"supervised_keywords\": {\"religi leader\": 0.370064516098131, \"muhammadu buhari\": 0.46746678983807305, \"2019 elect\": 0.5428961477353761, \"spiritu director\": 0.328808042025995, \"enugu nigeria\": 0.376793154142378}, \"spelling_errors\": 0, \"gallery_pictures_num\": false, \"url\": \"http://www.dailyadvent.com/index.php/2018/10/21/2019-elections-rev-fr-mbaka-gives-his-take-on-buhari-and-atiku/\", \"original_url\": \"http://www.dailyadvent.com/index.php/2018/10/21/2019-elections-rev-fr-mbaka-gives-his-take-on-buhari-and-atiku/\", \"title_spam_word_count\": 0, \"sub_sub_sub_category\": \"\", \"key_entities_v2_hash\": {\"hash_7636765653037396573\": 100, \"hash_10481589542732379565\": 11.4975, \"hash_8303600636388792039\": 12.9951}}, \"context\": {\"recall_source\": \"F\", \"push_ctr\": \"0.083\", \"recall_score\": \"0\", \"response_timestamp\": 1540106591, \"news_publish_time_diff_hour_desc\": 0, \"channel\": \"push\", \"rank_score\": \"0\"}, \"label\": 1}, \"a0f76056_ng\": {\"news_feature\": {\"content_length\": 2702, \"target_country\": \"ng\", \"topic256\": {\"214\": 0.10623341798782301, \"213\": 0.023354375734925003, \"208\": 0.026552377268671, \"51\": 0.14735911786556202, \"133\": 0.05333190038800201, \"130\": 0.26410111784935, \"176\": 0.025954619050025003, \"91\": 0.09478636831045101, \"69\": 0.022308299317955003, \"220\": 0.079394116997718}, \"word_count\": 1138, \"new_type\": 2, \"ttl\": 1555666563, \"keywords\": {\"apc\": 0, \"senatori\": 5, \"aspir\": 3, \"governorship\": 2, \"taraba\": 8}, \"summary_length\": 0, \"title\": \"2019: How APC made over N6.9 billion from sale of forms to aspirants\", \"max_disgusting_scores\": {\"20170703\": 0.049477656978664006}, \"cdn_pictures\": null, \"location\": \"ss,gh,ug,zm,tz,za,ng,ke,mw,zw\", \"title_keywords\": {\"aspir\": 0, \"sale\": 2, \"form\": 1}, \"hub_timestamp\": \"2018-10-21T09:35:50Z\", \"push_source\": \"breaking-news\", \"timestamp\": 1540114162, \"negative_feedback_category\": null, \"mannual_keywords\": false, \"nlp_timestamp\": \"2018-10-21T09:36:02Z\", \"no_of_videos\": 0, \"expiration_timestamp\": 0, \"summary\": \"\", \"disgusting_scores\": {\"20170703\": [0.023823239485219003, 0.049477656978664006]}, \"crawler\": \"NG-CRAWLER\", \"domain\": \"premiumtimesng.com\", \"sub_category\": \"\", \"sex\": 0, \"sanitized_html_length\": 0, \"key_entities\": {\"I-LOC Niger\": 4, \"I-ORG APC\": 12, \"I-LOC Borno\": 3}, \"images\": null, \"exp_scores\": {\"20170830\": 0.12652511212203302}, \"enter_timestamp\": \"2018-10-21T09:36:03Z\", \"category\": \"Others\", \"body_addons\": [], \"pictures\": [\"https://i2.wp.com/media.premiumtimesng.com/wp-content/files/2018/10/PRESIDENT-BUHARI-HOSTS-BIZ-MEN-1024x683.jpg?w=600&h=400&ssl=1\", \"https://i0.wp.com/media.premiumtimesng.com/wp-content/files/2018/10/Oshiomhole.jpg?w=600&h=418&ssl=1\"], \"enter_type\": \"crawler_news\", \"sub_sub_category\": \"\", \"combined_score\": 0, \"supervised_keywords_v2\": {\"apc\": 3.289273262023926, \"aspir\": 3.197160243988037, \"sale\": 2.214566230773926}, \"score\": 0, \"keywords_tag\": {\"John Odigie Oyegun\": 0.079307415, \"Bola Tinubu\": 0.04406236, \"All Progressives Congress (APC)\": 0.040352345000000005, \"All Progressives Congress\": 0.14301756000000002, \"Congress Working Committee\": 0.08686539500000001}, \"thumbnail\": {\"id\": \"\", \"image_server\": \"\"}, \"hit_domain_blacklist\": false, \"evergreen_confidence\": 0.47038727192455704, \"image_mscv_scores\": [], \"dup_flag\": true, \"language\": \"en\", \"country\": \"ng\", \"category_v2_cross\": \"News_Politics@Religion_mh\", \"image_nsfw_scores\": [0.101234644651412, 0.048456061631441005], \"no_of_pictures\": 2, \"keywords_v2\": {\"apc\": 2.266911344450845, \"aspir\": 2.266088351556297, \"borno state\": 0.41652005877423504, \"form\": 1.128328022742581, \"governorship candid\": 0.40662311912192906}, \"quality\": 0, \"key_entities_v2\": {\"All Progressives Congress\": 15.999}, \"sensitive_keywords\": 0, \"index_type\": 0, \"head_addons\": [], \"supervised_keywords_v2_origin\": {\"APC\": 3.289273262023926, \"sale\": 2.214566230773926, \"aspirants\": 3.197160243988037}, \"quality_entity_original_format\": null, \"list_title\": \"\", \"domain_category_level\": 2, \"negative_feedback_keyword\": null, \"topic2048\": {\"741\": 0.023400843143463003, \"1167\": 0.017211001366376003, \"1270\": 0.040254827588796005, \"528\": 0.083421431481838, \"1564\": 0.025464123114943, \"1110\": 0.041877631098032005, \"404\": 0.06128173694014501, \"1887\": 0.022403975948691, \"249\": 0.038539290428161004, \"1671\": 0.089588090777397}, \"topic_evergreen\": null, \"low_taste_keywords\": 0, \"news_id\": \"\", \"category_v2_score\": {\"News_Sports\": 0.006214310286292, \"Crime\": 0.027983584947379, \"Religion\": 0.19867438423750702, \"Health\": 0.008929687896550001, \"Art&Design\": 0.017110229863473003, \"Fashion&Beauty\": 0.0032975668808030005, \"Gaming\": 0.002334636182634, \"Business\": 0.005930513010585001, \"Food\": 0.0030716236494580003, \"Auto\": 0.002009487629327, \"Home&Garden\": 0.0025732286700660004, \"Travel\": 0.007675628655445001, \"Others_Plane_Crash\": 0.0032070993425630002, \"News_Entertainment\": 0.006679454510924001, \"Accident\": 0.0031057059652920002, \"Others_Natural_Disaster\": 0.0028332486832480003, \"Science\": 0.002814008522182, \"Pet_Animals\": 0.0046510120378250005, \"Others_Terrorism\": 0.015729426834963003, \"News_Politics\": 0.642225152472584, \"Prose\": 0.016685366340337, \"Education\": 0.005847789842034001, \"Technology\": 0.010416853538518001}, \"gallery_type\": 0, \"topic_v2\": {\"208\": 0.10499898344278301, \"30\": 0.077449418604373, \"425\": 0.07669463008642101, \"125\": 0.22898656129837003, \"445\": 0.06418265402317}, \"last_timestamp\": 1540114162, \"source_location\": \"\", \"amp_url\": \"\", \"topic\": {\"313\": 0.036033727228641003, \"716\": 0.096285626292228, \"562\": 0.13804568350315002, \"858\": 0.08489166200160901, \"1\": 0.029389476403594003, \"323\": 0.037768170237541004, \"689\": 0.037101078778505006, \"178\": 0.08241007477045001, \"389\": 0.051803819835186005, \"81\": 0.031337387859821}, \"seed\": \"https://www.premiumtimesng.com/\", \"entry_id\": \"a0f76056_ng\", \"anti_spam_processed_time\": \"2018-10-21T09:36:01Z\", \"id\": \"0a3842ff343d9479c48ec579bda1fe6e_ng\", \"soure_num\": 1, \"spam_word_count\": 5, \"top_domain\": \"premiumtimesng.com\", \"imageserver\": \"http://img.transcoder.opera.com/assets/v1\", \"author\": \"Evelyn Okakwu\", \"topic64\": {\"11\": 0.284483164548873, \"10\": 0.005533347837626001, \"27\": 0.024779776111245003, \"48\": 0.053927008062601006, \"17\": 0.16989907622337302, \"35\": 0.017038023099303003, \"0\": 0.04374860972166, \"38\": 0.0014003010001030001, \"4\": 0.000752584659494, \"7\": 0.384200632572174}, \"publication_time\": \"1540114162000\", \"subscribe_tags\": [\"news_dlsub_00143\"], \"first_occurrence_timestamp\": \"2018-10-21T09:31:23Z\", \"evergreen\": 0, \"supervised_keywords\": {\"billion\": 0.51334111206599, \"senatori\": 0.52043779629247, \"million\": 0.43928068842633006, \"form\": 0.747729675903099, \"governorship aspir\": 0.46753505573511206}, \"spelling_errors\": 0, \"gallery_pictures_num\": false, \"url\": \"https://www.premiumtimesng.com/news/291587-2019-how-apc-made-over-n6-9-billion-from-sale-of-forms-to-aspirants.html?utm_source=operamini&utm_medium=feednews&utm_campaign=operamini_feednews\", \"original_url\": \"https://www.premiumtimesng.com/news/291587-2019-how-apc-made-over-n6-9-billion-from-sale-of-forms-to-aspirants.html?utm_source=operamini&utm_medium=feednews&utm_campaign=operamini_feednews\", \"title_spam_word_count\": 0, \"sub_sub_sub_category\": \"\", \"key_entities_v2_hash\": {\"hash_344973979527974414\": 15.999}}, \"context\": {\"recall_source\": \"f\", \"push_ctr\": \"0.044\", \"recall_score\": \"0.444\", \"response_timestamp\": 1540152246, \"news_publish_time_diff_hour_desc\": 10, \"channel\": \"push\", \"rank_score\": \"0.240\"}, \"label\": 1}, \"cee66ab6_ng\": {\"news_feature\": {\"content_length\": 1226, \"target_country\": \"ng\", \"topic256\": {\"32\": 0.045287959277629006, \"191\": 0.040314137935638004, \"172\": 0.032024431973695006, \"163\": 0.022251309826970003, \"82\": 0.114659689366817, \"176\": 0.042582899332046, \"138\": 0.189790576696395, \"106\": 0.115183249115943, \"107\": 0.022687610238790002, \"105\": 0.012652705423533}, \"word_count\": 184, \"ttl\": 1555693938, \"keywords\": {\"np\": 5, \"ayedoo\": 1, \"jo\": 8, \"prison inmat\": 2, \"neco\": 0}, \"summary_length\": 0, \"title\": \"35 prison inmates sit for NECO exams\", \"cdn_pictures\": [{\"id\": \"cb1a998ec110c1e1a6521f496dad0ec5\", \"image_server\": \"http://img.transcoder.opera.com/assets/v2\"}], \"location\": \"ss,gh,ug,zm,tz,za,ng,ke,mw,zw\", \"title_keywords\": {\"prison inmat\": 0, \"exam\": 1}, \"hub_timestamp\": \"2018-10-21T17:12:17Z\", \"push_source\": \"\", \"timestamp\": 1540124611, \"negative_feedback_category\": null, \"mannual_keywords\": false, \"nlp_timestamp\": \"\", \"no_of_videos\": 0, \"expiration_timestamp\": 0, \"summary\": \"\", \"crawler\": \"cms\", \"domain\": \"premiumtimesng.com\", \"sub_category\": \"\", \"sex\": 0, \"sanitized_html_length\": 0, \"key_entities\": {\"I-ORG NPS\": 2, \"I-ORG Service\": 2, \"I-LOC Jos\": 3}, \"images\": null, \"exp_scores\": {\"20170830\": 0}, \"enter_timestamp\": \"2018-10-21T17:12:18Z\", \"category\": \"Education\", \"body_addons\": [], \"pictures\": [\"https://i0.wp.com/media.premiumtimesng.com/wp-content/files/2018/10/neco.png?fit=650%2C350&ssl=1\"], \"enter_type\": \"cms\", \"sub_sub_category\": \"\", \"combined_score\": 0, \"supervised_keywords_v2\": {\"neco\": 2.5644171237945548, \"inmat\": 3.068813562393188, \"jo prison\": 2.697417020797729}, \"score\": 0, \"keywords_tag\": {\"Lagos State\": 0.11883182, \"Ikeja\": 0.039490458, \"Abuja\": 0.04170363, \"University of Lagos\": 0.025869122, \"Anambra State\": 0.025910208}, \"thumbnail\": {\"id\": \"cb1a998ec110c1e1a6521f496dad0ec5\", \"image_server\": \"http://img.transcoder.opera.com/assets/v2\"}, \"hit_domain_blacklist\": false, \"evergreen_confidence\": 0, \"image_mscv_scores\": null, \"dup_flag\": true, \"language\": \"en\", \"country\": \"ng\", \"category_v2_cross\": \"Education@News_Politics_hl\", \"no_of_pictures\": 1, \"keywords_v2\": {\"np\": 0.460895293805103, \"neco\": 4.605011465985448, \"prison inmat\": 4.014891769335005, \"plateau command\": 0.38092060158683205, \"nation examin council\": 0.856054610038615}, \"relevant_entity\": [{\"stem_format\": \"prison inmat\", \"origin_format\": \"\", \"weight\": 2}], \"quality\": 0, \"key_entities_v2\": {\"National Examination Council\": 6.9974, \"Luka Ayedoo\": 3.929999999999999}, \"sensitive_keywords\": 0, \"index_type\": 0, \"head_addons\": [], \"supervised_keywords_v2_origin\": {\"the Jos prison\": 2.697417020797729, \"NECO\": 2.5644171237945548, \"35 inmates\": 3.068813562393188}, \"quality_entity_original_format\": null, \"list_title\": \"\", \"domain_category_level\": 2, \"negative_feedback_keyword\": null, \"topic2048\": {\"1212\": 0.038155209273099004, \"634\": 0.015350579284131001, \"1811\": 0.017120491713285002, \"1998\": 0.013989108614623002, \"1272\": 0.052586797624826, \"1492\": 0.010585432872176, \"1373\": 0.006603131536394, \"277\": 0.012014976702630001, \"920\": 0.009360109455883, \"538\": 0.006126617081463}, \"topic_evergreen\": {\"599\": 0.08305194973945601, \"124\": 0.07746753096580501}, \"low_taste_keywords\": 0, \"news_id\": \"\", \"category_v2_score\": {\"News_Sports\": 0.003718458814847, \"Crime\": 0.013509047854881, \"Religion\": 0.0030900814164980003, \"Health\": 0.004137958883989001, \"Art&Design\": 0.012204241656955, \"Fashion&Beauty\": 0.0015222167485900002, \"Gaming\": 0.002119575840499, \"Business\": 0.006769857444566, \"Food\": 0.0029027780438300003, \"Auto\": 0.0023168371072780003, \"Home&Garden\": 0.001712430021059, \"Travel\": 0.001964760367294, \"Others_Plane_Crash\": 0.0019220363251290001, \"News_Entertainment\": 0.0025917585083270003, \"Accident\": 0.002690762243121, \"Others_Natural_Disaster\": 0.0019074601733700001, \"Science\": 0.004348368169085, \"Pet_Animals\": 0.0021977550046720002, \"Others_Terrorism\": 0.0032876962055890004, \"News_Politics\": 0.021604020082469002, \"Prose\": 0.0025514683659130003, \"Education\": 0.897563314128835, \"Technology\": 0.0033671165931930002}, \"gallery_type\": 0, \"topic_v2\": {\"573\": 0.068662419915199, \"235\": 0.150382161140441, \"193\": 0.072929933667182}, \"quality_entity\": [{\"stem_format\": \"prison inmat\", \"origin_format\": \"\", \"weight\": 2}], \"last_timestamp\": 1540116761, \"source_location\": \"\", \"amp_url\": \"\", \"topic\": {\"890\": 0.039841268211603005, \"466\": 0.030899470672011, \"885\": 0.022539682686328003, \"699\": 0.008095238357782001, \"731\": 0.08534391224384301, \"62\": 0.016402116045355002, \"137\": 0.09359788149595201, \"720\": 0.008148147724568, \"810\": 0.008148147724568, \"236\": 0.015079365111887}, \"seed\": \"\", \"entry_id\": \"cee66ab6_ng\", \"anti_spam_processed_time\": \"\", \"id\": \"cb1a998ec110c1e1a6521f496dad0ec5_ng\", \"soure_num\": 19, \"spam_word_count\": 0, \"top_domain\": \"premiumtimesng.com\", \"imageserver\": \"http://img.transcoder.opera.com/assets/v2\", \"author\": \"Agency Report\", \"topic64\": {\"27\": 0.007337525952607, \"14\": 0.23197065293788902, \"49\": 0.004507337696850001, \"55\": 0.00587002094835, \"32\": 0.379350095987319, \"56\": 0.0060796644538640005, \"34\": 0.007127882447093001, \"38\": 0.08605869859457001, \"54\": 0.019182389602065003, \"2\": 0.156394124031066}, \"publication_time\": \"1540124611000\", \"first_occurrence_timestamp\": \"2018-10-21T10:12:57Z\", \"evergreen\": 0, \"supervised_keywords\": {\"prison servic\": 0.34652365901459303, \"social scienc\": 0.40591871965130705, \"prison inmat\": 0.48628645524449504, \"anniversari\": 0.365644701136694, \"subject\": 0.33723807557212404}, \"spelling_errors\": 0, \"gallery_pictures_num\": false, \"url\": \"https://www.premiumtimesng.com/news/more-news/291613-35-prison-inmates-sit-for-neco-exams.html?utm_source=operamini&utm_medium=feednews&utm_campaign=operamini_feednews\", \"original_url\": \"https://www.premiumtimesng.com/news/more-news/291613-35-prison-inmates-sit-for-neco-exams.html?utm_source=operamini&utm_medium=feednews&utm_campaign=operamini_feednews\", \"title_spam_word_count\": 0, \"sub_sub_sub_category\": \"\", \"key_entities_v2_hash\": {\"hash_14000661757834230856\": 3.929999999999999, \"hash_9557180822587113171\": 6.9974}}, \"context\": {\"recall_source\": \"f\", \"push_ctr\": \"0.070\", \"recall_score\": \"0.700\", \"response_timestamp\": 1540134881, \"news_publish_time_diff_hour_desc\": 2, \"channel\": \"push\", \"rank_score\": \"0.259\"}, \"label\": 1}, \"aadc795a_ng\": {\"news_feature\": {\"content_length\": 1922, \"target_country\": \"ng\", \"topic256\": {\"13\": 0.073809519410133, \"33\": 0.059191580861806, \"6\": 0.130620151758193, \"242\": 0.089479506015777, \"116\": 0.038316719233989, \"110\": 0.046345513314008005, \"71\": 0.026578072458505003, \"127\": 0.020376522094011, \"163\": 0.036046508699655005, \"78\": 0.034496121108531}, \"word_count\": 331, \"ttl\": 1555699258, \"keywords\": {\"needi\": 8, \"hiv\": 4, \"bobriski\": 0, \"reportedli\": 9, \"obialor\": 1}, \"summary_length\": 0, \"title\": \"Bobrisky offers help to man reportedly living with HIV, promises N200k monthly\", \"cdn_pictures\": [{\"id\": \"c64e254e644ab7295175a085c351de41\", \"image_server\": \"http://img.transcoder.opera.com/assets/v2\"}], \"location\": \"ss,gh,ug,zm,tz,za,ng,global,ke,mw,zw\", \"title_keywords\": {\"bobriski\": 0, \"hiv\": 1, \"help\": 2}, \"hub_timestamp\": \"2018-10-21T18:40:57Z\", \"push_source\": \"\", \"timestamp\": 1540123200, \"negative_feedback_category\": null, \"mannual_keywords\": false, \"nlp_timestamp\": \"\", \"no_of_videos\": 1, \"expiration_timestamp\": 0, \"summary\": \"\", \"crawler\": \"cms\", \"domain\": \"pulse.ng\", \"meta_keywords\": [\"Bobrisky\", \"Gist\", \"Metro\"], \"sub_category\": \"\", \"sex\": 0, \"sanitized_html_length\": 0, \"key_entities\": {\"I-PER James Obialor\": 2, \"I-PER Bobrisky\": 8}, \"images\": null, \"exp_scores\": {\"20170830\": 0}, \"enter_timestamp\": \"2018-10-21T18:40:58Z\", \"category\": \"Others\", \"body_addons\": [], \"pictures\": [\"https://static.pulse.ng/img/incoming/origs9005164/3721858772-w640-h640/Bobrisky-has-promised-to-follow-up-an-act-of-kindness-donating-money-to-a-man-living-with-HIV-but-paying-him-N200-000-every-month.png\", \"https://static.pulse.ng/img/incoming/origs9005163/3291854756-w640-h640/Bobrisky-hosted-a-needy-man-at-his-residence.png\"], \"enter_type\": \"cms\", \"sub_sub_category\": \"\", \"combined_score\": 0, \"supervised_keywords_v2\": {\"bobriski\": 3.254780292510986, \"hiv\": 3.155575037002563}, \"score\": 0, \"keywords_tag\": {\"Gilead Sciences\": 0.007868984, \"Immune Disorders\": 0.037701484, \"Therapy\": 0.0060051447, \"HIV/AIDS\": 0.16282669, \"The Bill and Melinda Gates Foundation\": 0.01163515}, \"thumbnail\": {\"id\": \"c64e254e644ab7295175a085c351de41\", \"image_server\": \"http://img.transcoder.opera.com/assets/v2\"}, \"hit_domain_blacklist\": false, \"evergreen_confidence\": 0, \"image_mscv_scores\": null, \"dup_flag\": true, \"language\": \"en\", \"country\": \"ng\", \"category_v2_cross\": \"News_Entertainment@Religion_lh\", \"no_of_pictures\": 1, \"keywords_v2\": {\"needi\": 0.199230576463533, \"jame obialor\": 0.39292174154860604, \"bobriski\": 0.779220779220779, \"hiv\": 3.336625394512005, \"instagram\": 0.25151876213344604}, \"quality\": 0, \"key_entities_v2\": {\"James Obialor\": 5.97, \"Bobrisky\": 8.5, \"HIV\": 6.9948999999999995}, \"sensitive_keywords\": 0, \"index_type\": 0, \"head_addons\": [\"<script>(function(i,s,o,g,r,a,m){i[\\'GoogleAnalyticsObject\\']=r;i[r]=i[r]||function(){(i[r].q=i[r].q||[]).push(arguments)},i[r].l=1*new Date();a=s.createElement(o),m=s.getElementsByTagName(o)[0];a.async=1;a.src=g;m.parentNode.insertBefore(a,m)})(window,document,\\'script\\',\\'https://www.google-analytics.com/analytics.js\\',\\'ga\\');ga(\\'create\\', \\'UA-42497671-1\\', \\'auto\\');ga(\\'send\\', \\'pageview\\');</script>\"], \"supervised_keywords_v2_origin\": {\"Bobrisky\": 3.254780292510986, \"HIV\": 3.155575037002563}, \"quality_entity_original_format\": null, \"list_title\": \"\", \"domain_category_level\": 2, \"negative_feedback_keyword\": null, \"topic2048\": {\"630\": 0.010088938288390002, \"988\": 0.011534186080098001, \"1542\": 0.014257921837270001, \"1055\": 0.011561979539692001, \"1288\": 0.013285159133374, \"306\": 0.014619233086705001, \"1418\": 0.012618121691048001, \"174\": 0.010227904655039, \"2029\": 0.009255141951143001, \"1161\": 0.012729294598102}, \"topic_evergreen\": {\"100\": 0.062620319426059, \"571\": 0.068663097918033}, \"low_taste_keywords\": 0, \"news_id\": \"\", \"category_v2_score\": {\"News_Sports\": 0.006493043479461001, \"Crime\": 0.047277774169868, \"Religion\": 0.18847684456159403, \"Health\": 0.026524029800076003, \"Art&Design\": 0.013351442372694, \"Fashion&Beauty\": 0.009415660413591001, \"Gaming\": 0.005128423019571, \"Business\": 0.011355150533592, \"Food\": 0.0042747754251440005, \"Auto\": 0.0035910860620230003, \"Home&Garden\": 0.007594813911830001, \"Travel\": 0.011589640569381, \"Others_Plane_Crash\": 0.005104137442643, \"News_Entertainment\": 0.48786295856592204, \"Accident\": 0.007114151070579001, \"Others_Natural_Disaster\": 0.0048962273638450005, \"Science\": 0.005367173017818001, \"Pet_Animals\": 0.006427846764462001, \"Others_Terrorism\": 0.005046149862985, \"News_Politics\": 0.091108976443489, \"Prose\": 0.028395130887360003, \"Education\": 0.006686146717147, \"Technology\": 0.016918417544913}, \"gallery_type\": 0, \"topic_v2\": {\"283\": 0.051277533173561006, \"362\": 0.050881057977676, \"361\": 0.065903082489967}, \"last_timestamp\": 1540123200, \"source_location\": \"\", \"amp_url\": \"https://amp.pulse.ng/gist/metro/bobrisky-offers-helping-hand-to-man-living-with-hiv-id9005189.html\", \"topic\": {\"973\": 0.020078431814908003, \"962\": 0.027960784733295004, \"337\": 0.016313726082444, \"330\": 0.027960784733295004, \"306\": 0.022117646411061002, \"41\": 0.021411765366792002, \"919\": 0.01843137294054, \"66\": 0.030941177159547, \"102\": 0.024588234722614, \"138\": 0.016196077689528}, \"seed\": \"\", \"entry_id\": \"aadc795a_ng\", \"partner\": 1, \"anti_spam_processed_time\": \"\", \"id\": \"c64e254e644ab7295175a085c351de41_ng\", \"soure_num\": 2, \"spam_word_count\": 0, \"top_domain\": \"pulse.ng\", \"imageserver\": \"http://img.transcoder.opera.com/assets/v2\", \"author\": \"Ayodele\", \"topic64\": {\"11\": 0.006319703068584001, \"27\": 0.016666667535901, \"55\": 0.007868649438023, \"54\": 0.046530362218618004, \"50\": 0.011400247924029001, \"41\": 0.115489467978477, \"3\": 0.15774473547935403, \"2\": 0.102478317916393, \"9\": 0.37342008948326105, \"8\": 0.05724907293915701}, \"publication_time\": \"1540123200000\", \"subscribe_tags\": [\"news_dlsub_00044\"], \"first_occurrence_timestamp\": \"2018-10-21T17:03:33Z\", \"evergreen\": 0, \"supervised_keywords\": {\"hiv\": 0.7814884189290621, \"promis\": 0.39999659023799505, \"bobriski\": 0.5362013751087541, \"reportedli\": 0.374210159485515, \"instagram\": 0.44922242390181505}, \"spelling_errors\": 0, \"gallery_pictures_num\": false, \"url\": \"https://www.pulse.ng/gist/metro/bobrisky-offers-helping-hand-to-man-living-with-hiv-id9005189.html\", \"original_url\": \"https://www.pulse.ng/gist/metro/bobrisky-offers-helping-hand-to-man-living-with-hiv-id9005189.html\", \"title_spam_word_count\": 0, \"sub_sub_sub_category\": \"\", \"key_entities_v2_hash\": {\"hash_7207763420261750028\": 8.5, \"hash_6994226427433226120\": 5.97, \"hash_6738323090308561895\": 6.9948999999999995}}, \"context\": {\"recall_source\": \"F\", \"push_ctr\": \"0.017\", \"recall_score\": \"0\", \"response_timestamp\": 1540152216, \"news_publish_time_diff_hour_desc\": 8, \"channel\": \"push\", \"rank_score\": \"0\"}, \"label\": 1}, \"cc5156de_ng\": {\"news_feature\": {\"content_length\": 1309, \"target_country\": \"ng\", \"topic256\": {\"22\": 0.06504934281110701, \"54\": 0.010115131735801001, \"182\": 0.12401316314935601, \"181\": 0.013322368264198001, \"137\": 0.006250000093132001, \"126\": 0.261019736528396, \"69\": 0.019407894462347003, \"105\": 0.097286187112331, \"171\": 0.10172697156667701, \"96\": 0.023190788924694002}, \"word_count\": 199, \"ttl\": 1555693883, \"keywords\": {\"flood\": 5, \"jonathan\": 7, \"bayelsa\": 1, \"oru\": 2, \"otuok\": 0}, \"summary_length\": 0, \"title\": \"Flood ravages Otuoke, ex-President Jonathan\\\\u2019s Bayelsa community\", \"cdn_pictures\": [{\"id\": \"d63088b5d7af70a8ba3e48207c0994cb\", \"image_server\": \"http://img.transcoder.opera.com/assets/v2\"}], \"location\": \"ss,gh,ug,zm,tz,za,ng,ke,mw,zw\", \"title_keywords\": {\"flood\": 1, \"ravag\": 3, \"commun\": 4, \"bayelsa\": 0, \"presid jonathan\": 2}, \"hub_timestamp\": \"2018-10-21T17:11:22Z\", \"push_source\": \"\", \"timestamp\": 1540132927, \"negative_feedback_category\": null, \"mannual_keywords\": false, \"nlp_timestamp\": \"\", \"no_of_videos\": 0, \"expiration_timestamp\": 0, \"summary\": \"\", \"crawler\": \"cms\", \"domain\": \"premiumtimesng.com\", \"sub_category\": \"\", \"sex\": 0, \"sanitized_html_length\": 0, \"key_entities\": {\"I-PER Flood\": 2, \"I-PER Jonathan\": 3, \"I-LOC Bayelsa\": 4, \"I-ORG NAN\": 5}, \"images\": null, \"exp_scores\": {\"20170830\": 0}, \"enter_timestamp\": \"2018-10-21T17:11:23Z\", \"category\": \"Others_Natrual_Disaster\", \"body_addons\": [], \"enter_type\": \"cms\", \"sub_sub_category\": \"\", \"combined_score\": 0, \"supervised_keywords_v2\": {\"flood\": 3.349074125289917, \"bayelsa\": 2.934631109237671, \"otuok\": 3.040967941284179, \"otuok commun\": 2.248877763748169}, \"score\": 0, \"keywords_tag\": {\"Port Harcourt\": 0.021569269000000002, \"Bayelsa State\": 0.30809766, \"Imo State\": 0.019764742000000002, \"Warri\": 0.059024967000000005, \"Government House\": 0.027894879}, \"thumbnail\": {\"id\": \"d63088b5d7af70a8ba3e48207c0994cb\", \"image_server\": \"http://img.transcoder.opera.com/assets/v2\"}, \"hit_domain_blacklist\": false, \"evergreen_confidence\": 0, \"image_mscv_scores\": null, \"dup_flag\": true, \"language\": \"en\", \"country\": \"ng\", \"category_v2_cross\": \"Others_Natural_Disaster@News_Politics_hl\", \"no_of_pictures\": 1, \"keywords_v2\": {\"flood\": 4.8624795782785615, \"nan\": 0.7380583738816111, \"bayelsa\": 4.474372905700965, \"ogbia local govern\": 0.5658220877407251, \"otuok\": 6.645339430353624}, \"quality\": 0, \"key_entities_v2\": {\"Bayelsa State\": 5.9954, \"Goodluck Jonathan\": 6.9965, \"Otuoke\": 5.9986}, \"sensitive_keywords\": 0, \"index_type\": 0, \"head_addons\": [], \"supervised_keywords_v2_origin\": {\"Flood\": 3.349074125289917, \"Jonathan\\\\u2019s Bayelsa\": 2.934631109237671, \"Otuoke Community\": 2.248877763748169, \"Otuoke\": 3.040967941284179}, \"quality_entity_original_format\": null, \"list_title\": \"\", \"domain_category_level\": 2, \"negative_feedback_keyword\": null, \"topic2048\": {\"833\": 0.013829788193106, \"1337\": 0.050864364951848005, \"148\": 0.0058510638773440005, \"340\": 0.008676862344145001, \"647\": 0.007347074802964, \"1929\": 0.031449470669031004, \"188\": 0.012001330032944001, \"1000\": 0.029122341424226, \"1751\": 0.008942819200456, \"927\": 0.009341755881905}, \"topic_evergreen\": {\"487\": 0.08264516294002501, \"124\": 0.09161290526390001, \"501\": 0.11051613092422401}, \"low_taste_keywords\": 0, \"news_id\": \"\", \"category_v2_score\": {\"News_Sports\": 0.004216604572423, \"Crime\": 0.0052526674992480005, \"Religion\": 0.004100224498641, \"Health\": 0.0035956085882430005, \"Art&Design\": 0.006461962674191001, \"Fashion&Beauty\": 0.002503865227299, \"Gaming\": 0.0021942828224470004, \"Business\": 0.006566381604696, \"Food\": 0.001882072510693, \"Auto\": 0.0021561349771880003, \"Home&Garden\": 0.003880490923089, \"Travel\": 0.004160086153606001, \"Others_Plane_Crash\": 0.005601592783818001, \"News_Entertainment\": 0.003111628622199, \"Accident\": 0.0037718508368880005, \"Others_Natural_Disaster\": 0.900320988020159, \"Science\": 0.004477594993463001, \"Pet_Animals\": 0.006947042025193001, \"Others_Terrorism\": 0.004371959935686, \"News_Politics\": 0.016018680247158003, \"Prose\": 0.0028340703517040003, \"Education\": 0.002721734725465, \"Technology\": 0.0028524754064910003}, \"gallery_type\": 0, \"topic_v2\": {\"397\": 0.11049079895019501, \"432\": 0.231165647506713, \"462\": 0.056748464703559}, \"last_timestamp\": 1540132927, \"source_location\": \"\", \"amp_url\": \"\", \"topic\": {\"997\": 0.007499999832361001, \"603\": 0.00714285718277, \"889\": 0.065918363630771, \"798\": 0.023469388484954, \"524\": 0.129285708069801, \"277\": 0.011377550661563, \"69\": 0.02377551048994, \"648\": 0.0065306122414760005, \"528\": 0.069030612707138, \"172\": 0.01448979601264}, \"seed\": \"\", \"entry_id\": \"cc5156de_ng\", \"anti_spam_processed_time\": \"\", \"id\": \"c30b9ea693adefa0f6e9bb547d81fa0b_ng\", \"soure_num\": 3, \"spam_word_count\": 0, \"top_domain\": \"premiumtimesng.com\", \"imageserver\": \"http://img.transcoder.opera.com/assets/v1\", \"author\": \"Agency Report\", \"topic64\": {\"10\": 0.006054687313735, \"17\": 0.31425780057907104, \"19\": 0.34599608182907104, \"32\": 0.031054686754941004, \"56\": 0.066503904759883, \"53\": 0.008984374813735001, \"18\": 0.011914062313735001, \"0\": 0.09414062649011601, \"4\": 0.011914062313735001, \"54\": 0.017480468377470002}, \"publication_time\": \"1540132927000\", \"subscribe_tags\": [\"news_dlsub_00022\"], \"first_occurrence_timestamp\": \"2018-10-21T14:43:36Z\", \"evergreen\": 0, \"supervised_keywords\": {\"flood disast\": 0.43514765252660303, \"affect\": 0.395528533315528, \"commun\": 0.49831405896322806, \"bayelsa\": 0.43443598046375304, \"presid jonathan\": 0.410441623953094}, \"spelling_errors\": 0, \"gallery_pictures_num\": false, \"url\": \"https://www.premiumtimesng.com/news/top-news/291627-flood-ravages-otuoke-ex-president-jonathans-bayelsa-community.html?utm_source=operamini&utm_medium=feednews&utm_campaign=operamini_feednews\", \"original_url\": \"https://www.premiumtimesng.com/news/top-news/291627-flood-ravages-otuoke-ex-president-jonathans-bayelsa-community.html?utm_source=operamini&utm_medium=feednews&utm_campaign=operamini_feednews\", \"title_spam_word_count\": 0, \"sub_sub_sub_category\": \"\", \"key_entities_v2_hash\": {\"hash_10114449608850526336\": 6.9965, \"hash_2097594235514962560\": 5.9986, \"hash_9636507075549067570\": 5.9954}}, \"context\": {\"recall_source\": \"F\", \"push_ctr\": \"0.018\", \"recall_score\": \"0\", \"response_timestamp\": 1540152267, \"news_publish_time_diff_hour_desc\": 5, \"channel\": \"push\", \"rank_score\": \"0\"}, \"label\": 1}}, \"user_profile\": {\"nl_category\": {\"News_Entertainment\": 2.98, \"News_Lifestyle\": 2.98, \"Crime\": 0.98, \"News_Politics\": 1.98, \"Others\": 2.98, \"Policy\": 1.0, \"Technology\": 1.0}, \"opera_id\": \"9d51777d8940ec4e9bb7adc9a3c61425fe0741751b022b56a24068c27dac5899\", \"news_device_id\": \"475283b75586c744965b37a6caaf8432b65600d9\", \"timezone\": 3600000, \"phone_model\": \"A5500\", \"nl_keywords\": {\"nigerian\": 1.484, \"dilaliya\": 0.9, \"saraki\": 0.9, \"alcohol\": 0.9, \"coupl\": 1.3719999999999999, \"nigeria presid\": 0.882, \"oluwaseyi\": 0.9, \"kyauta\": 1.0, \"ooni if\": 2.0, \"nite\": 0.882, \"symington\": 0.9, \"whatsapp\": 0.9, \"elect nigeria\": 1.0, \"bariga\": 0.882, \"juic\": 0.9, \"katsina\": 0.98, \"buba galadima\": 0.882, \"inspectlet\": 1.0, \"somolu\": 0.98, \"ankara\": 0.882, \"lamidi\": 0.9, \"endtim\": 0.98, \"franz\": 1.584, \"grave\": 1.0, \"alaafin\": 1.0, \"olori\": 1.7000000000000002, \"atiku\": 0.98, \"skiibo\": 0.98, \"godswil akpabio\": 1.0, \"popcorn\": 1.0}, \"ts\": 1540155999, \"system_language\": \"en\", \"nl_topic256\": {\"38\": 1.0, \"81\": 0.98, \"33\": 0.98, \"208\": 1.0, \"131\": 0.98, \"113\": 0.98, \"252\": 0.98, \"250\": 1.0, \"92\": 2.0, \"118\": 3.0, \"255\": 1.0}, \"app_version\": \"4.5.2254.130905\", \"nl_supervised_keywords\": {\"nigeria\": 1.5859999999999999, \"product\": 0.8, \"recognis\": 0.9, \"kannywood\": 1.0, \"liver cirrhosi\": 0.8, \"gang war\": 0.98, \"social media\": 1.98, \"muhammadu buhari\": 0.882, \"wedd photo\": 0.882, \"command prompt\": 0.9, \"palac\": 0.9, \"health\": 1.8, \"elector process\": 1.8820000000000001, \"kyauta dilaliya\": 0.9, \"beauti flower\": 0.882, \"artifici flavor\": 1.0, \"progress congress\": 0.98, \"share locat\": 0.8, \"evangelist\": 1.0, \"cult leader\": 0.882, \"contribut\": 0.8, \"physical appear\": 0.8, \"ministri\": 0.8, \"ankara\": 0.98, \"whatsapp\": 1.0, \"alaafin\": 1.0, \"smoke cigarett\": 1.0, \"naomi oluwaseyi\": 0.9, \"tradit ruler\": 0.9, \"oba\": 0.8, \"godswil akpabio\": 1.0, \"presid\": 0.98, \"2019 elect\": 0.8, \"controversi\": 0.8}, \"product\": \"news\", \"screen_width\": 720, \"nl_subcategory\": {\"News_Entertainment.Others\": 2.98}, \"install_referrer\": \"utm_source=google-play&utm_medium=organic\", \"nl_title_keywords\": {\"ibara\": 0.9, \"ooni if\": 2.0, \"ak\": 0.8, \"kannywood\": 0.9, \"apc\": 0.784, \"gang war\": 0.98, \"saraki\": 0.9, \"akpabio\": 1.0, \"shot dead\": 0.784, \"coupl\": 1.862, \"pictur\": 0.784, \"nigeria presid\": 0.98, \"amidst\": 0.8, \"food\": 1.0, \"unit\": 0.8, \"whatsapp\": 1.0, \"elect nigeria\": 1.0, \"cult leader\": 0.882, \"club\": 0.882, \"ankara\": 0.98, \"blood\": 0.9, \"america\": 0.882, \"grave\": 1.0, \"alaafin\": 1.0, \"reveal\": 0.784, \"buhari\": 0.882, \"look\": 0.784, \"wife\": 0.9, \"dilaliya\": 1.0, \"atiku\": 0.98, \"uproar\": 0.8, \"2019 elect\": 0.9}, \"nl_domain\": {\"naijatechguide.com\": 1.0, \"dailyadvent.com\": 1.98, \"dailytrust.com.ng\": 1.0, \"nowvideo.today\": 2.98, \"pulse.ng\": 0.98, \"vanguardngr.com\": 1.0, \"www.premiumtimesng.com\": 1.0, \"lifestyle.ng\": 0.98, \"hivisasa.com\": 1.0, \"gqbuzz.com\": 0.98, \"uncova.com\": 1.0}, \"nl_topic64\": {\"22\": 1.0, \"49\": 1.0, \"55\": 1.0, \"54\": 0.98, \"35\": 3.0, \"34\": 1.0, \"0\": 1.98, \"7\": 0.98, \"8\": 1.0, \"41\": 1.96}, \"app_language\": \"en_US\", \"manufacturer\": \"Fero\", \"nl_topic2048\": {\"1979\": 1.0, \"948\": 0.98, \"1638\": 1.0, \"940\": 1.0, \"1418\": 0.98, \"733\": 3.0, \"1469\": 1.0, \"489\": 0.98, \"437\": 1.0, \"1413\": 1.0, \"257\": 0.98}, \"country\": \"NG\", \"nl_topic\": {\"579\": 1.0, \"583\": 1.0, \"55\": 1.0, \"194\": 1.0, \"51\": 0.98, \"305\": 1.0, \"870\": 0.98, \"313\": 0.98, \"470\": 3.0, \"116\": 0.98, \"509\": 1.0, \"800\": 0.98}, \"os\": \"Android/7.0\", \"screen_height\": 1280}}'"
      ]
     },
     "execution_count": 179,
     "metadata": {},
     "output_type": "execute_result"
    }
   ],
   "source": [
    "import json\n",
    "\n",
    "json_ctr_outliers = json.dumps( ctr_outliers[1] )\n",
    "json_ctr_outliers"
   ]
  },
  {
   "cell_type": "markdown",
   "metadata": {},
   "source": [
    ">设定 click>=4 即为 abnormal用户，因为推三次：上午两条，下午两条，晚上一条，推一次看一次应该就差不多了？or 推的内容太好看了？\n",
    "\n",
    "or 推的内容，打开app以后就找不到了？？？不在显眼的位置？"
   ]
  },
  {
   "cell_type": "code",
   "execution_count": null,
   "metadata": {},
   "outputs": [],
   "source": []
  }
 ],
 "metadata": {
  "kernelspec": {
   "display_name": "Python 2",
   "language": "python",
   "name": "python2"
  },
  "language_info": {
   "codemirror_mode": {
    "name": "ipython",
    "version": 2
   },
   "file_extension": ".py",
   "mimetype": "text/x-python",
   "name": "python",
   "nbconvert_exporter": "python",
   "pygments_lexer": "ipython2",
   "version": "2.7.15"
  }
 },
 "nbformat": 4,
 "nbformat_minor": 2
}
